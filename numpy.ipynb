{
 "cells": [
  {
   "cell_type": "markdown",
   "id": "5f2aa7cb-a84c-4028-9c49-89aa96e7a4b6",
   "metadata": {},
   "source": [
    "# numpy part 1 \n"
   ]
  },
  {
   "cell_type": "code",
   "execution_count": null,
   "id": "f8525dd1-1d74-4a12-9990-2cfb197c152a",
   "metadata": {},
   "outputs": [],
   "source": [
    "import numpy as np"
   ]
  },
  {
   "cell_type": "code",
   "execution_count": 3,
   "id": "d62ce306-c89d-4e2e-91f5-6bc5bd0c4dc1",
   "metadata": {},
   "outputs": [],
   "source": [
    "l = [1,2,3,4]\n"
   ]
  },
  {
   "cell_type": "code",
   "execution_count": 7,
   "id": "f7d84d7b-9667-4157-8888-8dd660ba769b",
   "metadata": {},
   "outputs": [],
   "source": [
    "ar = np.array(l)"
   ]
  },
  {
   "cell_type": "code",
   "execution_count": 8,
   "id": "2b50c312-3041-40c1-8a64-f75f830e3b08",
   "metadata": {},
   "outputs": [
    {
     "data": {
      "text/plain": [
       "array([1, 2, 3, 4])"
      ]
     },
     "execution_count": 8,
     "metadata": {},
     "output_type": "execute_result"
    }
   ],
   "source": [
    "ar"
   ]
  },
  {
   "cell_type": "code",
   "execution_count": 9,
   "id": "f6fb1f17-eaf4-41c1-8098-0e2dbd30ca47",
   "metadata": {},
   "outputs": [
    {
     "data": {
      "text/plain": [
       "numpy.ndarray"
      ]
     },
     "execution_count": 9,
     "metadata": {},
     "output_type": "execute_result"
    }
   ],
   "source": [
    "type(ar)"
   ]
  },
  {
   "cell_type": "code",
   "execution_count": 12,
   "id": "3f7bbbc4-3b4a-4349-abab-33d72e2ecb44",
   "metadata": {},
   "outputs": [
    {
     "data": {
      "text/plain": [
       "array([[1, 2, 3],\n",
       "       [1, 4, 5]])"
      ]
     },
     "execution_count": 12,
     "metadata": {},
     "output_type": "execute_result"
    }
   ],
   "source": [
    "np.array([[1,2,3],[1,4,5]])"
   ]
  },
  {
   "cell_type": "code",
   "execution_count": 13,
   "id": "27bb1c25-488c-4af8-95f8-929448bdeee7",
   "metadata": {},
   "outputs": [
    {
     "data": {
      "text/plain": [
       "array([1, 2, 3, 4])"
      ]
     },
     "execution_count": 13,
     "metadata": {},
     "output_type": "execute_result"
    }
   ],
   "source": [
    "np.asarray(l)"
   ]
  },
  {
   "cell_type": "code",
   "execution_count": 15,
   "id": "7a13fb42-7fd1-4207-ae46-97dd92472b1a",
   "metadata": {},
   "outputs": [],
   "source": [
    "a = [2,3,4] \n"
   ]
  },
  {
   "cell_type": "code",
   "execution_count": 16,
   "id": "e1609e36-2a15-4bf8-ae7d-6504eba0d279",
   "metadata": {},
   "outputs": [
    {
     "data": {
      "text/plain": [
       "array([2, 3, 4])"
      ]
     },
     "execution_count": 16,
     "metadata": {},
     "output_type": "execute_result"
    }
   ],
   "source": [
    "np.asarray(a)"
   ]
  },
  {
   "cell_type": "code",
   "execution_count": 19,
   "id": "08134750-548a-4c82-8f04-8f5bdfdb67ae",
   "metadata": {},
   "outputs": [],
   "source": [
    "b = np.matrix(l) ## i will return always two dimensional metrix"
   ]
  },
  {
   "cell_type": "code",
   "execution_count": 20,
   "id": "5ffdf45c-1407-49c2-aff1-754e6ceebeb6",
   "metadata": {},
   "outputs": [
    {
     "data": {
      "text/plain": [
       "matrix([[1, 2, 3, 4]])"
      ]
     },
     "execution_count": 20,
     "metadata": {},
     "output_type": "execute_result"
    }
   ],
   "source": [
    "b"
   ]
  },
  {
   "cell_type": "code",
   "execution_count": 21,
   "id": "a7420eb5-5f7d-455a-b45c-f9b0578f8941",
   "metadata": {},
   "outputs": [
    {
     "data": {
      "text/plain": [
       "matrix([[1, 2, 3, 4]])"
      ]
     },
     "execution_count": 21,
     "metadata": {},
     "output_type": "execute_result"
    }
   ],
   "source": [
    "np.asanyarray(b)  ## it "
   ]
  },
  {
   "cell_type": "code",
   "execution_count": 22,
   "id": "e37d08e6-60b3-4e9e-8249-fa8c15211af5",
   "metadata": {},
   "outputs": [],
   "source": [
    "a = np.array(l)"
   ]
  },
  {
   "cell_type": "code",
   "execution_count": 23,
   "id": "d2802ed0-2075-43bf-bb1f-db9ea3faa906",
   "metadata": {},
   "outputs": [
    {
     "data": {
      "text/plain": [
       "array([1, 2, 3, 4])"
      ]
     },
     "execution_count": 23,
     "metadata": {},
     "output_type": "execute_result"
    }
   ],
   "source": [
    "a"
   ]
  },
  {
   "cell_type": "code",
   "execution_count": 24,
   "id": "fd311fc5-7419-4608-b0fc-b9adbea12f82",
   "metadata": {},
   "outputs": [
    {
     "data": {
      "text/plain": [
       "array([1, 2, 3, 4])"
      ]
     },
     "execution_count": 24,
     "metadata": {},
     "output_type": "execute_result"
    }
   ],
   "source": [
    "c = a\n",
    "c"
   ]
  },
  {
   "cell_type": "code",
   "execution_count": 25,
   "id": "ab181736-12e1-4967-8642-bb535afeecf4",
   "metadata": {},
   "outputs": [
    {
     "data": {
      "text/plain": [
       "array([1, 2, 3, 4])"
      ]
     },
     "execution_count": 25,
     "metadata": {},
     "output_type": "execute_result"
    }
   ],
   "source": [
    "a"
   ]
  },
  {
   "cell_type": "code",
   "execution_count": 26,
   "id": "41ca9aac-f762-4f8f-b934-4726adc263b4",
   "metadata": {},
   "outputs": [
    {
     "data": {
      "text/plain": [
       "array([100,   2,   3,   4])"
      ]
     },
     "execution_count": 26,
     "metadata": {},
     "output_type": "execute_result"
    }
   ],
   "source": [
    "c[0] = 100  ### solo copy\n",
    "c"
   ]
  },
  {
   "cell_type": "code",
   "execution_count": 27,
   "id": "547d429b-d4ce-40f0-914b-54c5d8ff834d",
   "metadata": {},
   "outputs": [
    {
     "data": {
      "text/plain": [
       "array([100,   2,   3,   4])"
      ]
     },
     "execution_count": 27,
     "metadata": {},
     "output_type": "execute_result"
    }
   ],
   "source": [
    "a"
   ]
  },
  {
   "cell_type": "code",
   "execution_count": 28,
   "id": "0517ab10-fb8b-4eee-bff8-2c584434535e",
   "metadata": {},
   "outputs": [],
   "source": [
    "d = np.copy(a)  ## deep  copy "
   ]
  },
  {
   "cell_type": "code",
   "execution_count": 29,
   "id": "7c2877c6-7657-491f-aa9d-f60fe9b00163",
   "metadata": {},
   "outputs": [
    {
     "data": {
      "text/plain": [
       "array([100,   2,   3,   4])"
      ]
     },
     "execution_count": 29,
     "metadata": {},
     "output_type": "execute_result"
    }
   ],
   "source": [
    "d"
   ]
  },
  {
   "cell_type": "code",
   "execution_count": 30,
   "id": "39ee9416-2095-4169-a28e-6da389ff2926",
   "metadata": {},
   "outputs": [
    {
     "data": {
      "text/plain": [
       "array([100, 400,   3,   4])"
      ]
     },
     "execution_count": 30,
     "metadata": {},
     "output_type": "execute_result"
    }
   ],
   "source": [
    "a[1] =  400\n",
    "a"
   ]
  },
  {
   "cell_type": "code",
   "execution_count": 31,
   "id": "0038f502-feb0-4421-a7ad-212c3db45bd7",
   "metadata": {},
   "outputs": [
    {
     "data": {
      "text/plain": [
       "array([100,   2,   3,   4])"
      ]
     },
     "execution_count": 31,
     "metadata": {},
     "output_type": "execute_result"
    }
   ],
   "source": [
    "d"
   ]
  },
  {
   "cell_type": "code",
   "execution_count": 32,
   "id": "3359481e-dc9a-4f3d-b9f6-16ea0ecf8de4",
   "metadata": {},
   "outputs": [
    {
     "data": {
      "text/plain": [
       "array([[ True, False, False],\n",
       "       [False,  True, False],\n",
       "       [False, False,  True]])"
      ]
     },
     "execution_count": 32,
     "metadata": {},
     "output_type": "execute_result"
    }
   ],
   "source": [
    "np.fromfunction(lambda i,j : i ==j ,(3,3))"
   ]
  },
  {
   "cell_type": "code",
   "execution_count": 33,
   "id": "bfb268c5-4cb2-4dc4-87fa-f2acb7a5a03b",
   "metadata": {},
   "outputs": [
    {
     "data": {
      "text/plain": [
       "array([[0., 0., 0.],\n",
       "       [0., 1., 2.],\n",
       "       [0., 2., 4.]])"
      ]
     },
     "execution_count": 33,
     "metadata": {},
     "output_type": "execute_result"
    }
   ],
   "source": [
    "np.fromfunction(lambda i,j : i *j ,(3,3))"
   ]
  },
  {
   "cell_type": "code",
   "execution_count": 35,
   "id": "55958648-e32f-4ee2-b2d4-803d5076d352",
   "metadata": {},
   "outputs": [
    {
     "data": {
      "text/plain": [
       "array([[ True, False, False],\n",
       "       [ True,  True, False],\n",
       "       [ True,  True,  True]])"
      ]
     },
     "execution_count": 35,
     "metadata": {},
     "output_type": "execute_result"
    }
   ],
   "source": [
    "np.fromfunction(lambda i,j : i >=j ,(3,3))"
   ]
  },
  {
   "cell_type": "code",
   "execution_count": 42,
   "id": "78e51b56-994c-49e3-8f2f-283a96d5c0be",
   "metadata": {},
   "outputs": [],
   "source": [
    " iterable  = (i*i for i in range(5))\n",
    "    "
   ]
  },
  {
   "cell_type": "code",
   "execution_count": 43,
   "id": "c5742ae1-2443-4137-a32f-06a8c5723fbc",
   "metadata": {},
   "outputs": [
    {
     "data": {
      "text/plain": [
       "array([ 0.,  1.,  4.,  9., 16.])"
      ]
     },
     "execution_count": 43,
     "metadata": {},
     "output_type": "execute_result"
    }
   ],
   "source": [
    "np.fromiter(iterable,float)"
   ]
  },
  {
   "cell_type": "code",
   "execution_count": 47,
   "id": "5c08b409-1e91-43d8-99e1-6822b1908250",
   "metadata": {},
   "outputs": [
    {
     "data": {
      "text/plain": [
       "array([234., 256.])"
      ]
     },
     "execution_count": 47,
     "metadata": {},
     "output_type": "execute_result"
    }
   ],
   "source": [
    "np.fromstring('234 256',sep = ' ')"
   ]
  },
  {
   "cell_type": "code",
   "execution_count": 48,
   "id": "38789a2f-3860-4015-9713-3ed3a6883acb",
   "metadata": {},
   "outputs": [
    {
     "data": {
      "text/plain": [
       "array([4., 5.])"
      ]
     },
     "execution_count": 48,
     "metadata": {},
     "output_type": "execute_result"
    }
   ],
   "source": [
    "np.fromstring('4,5',sep = ',')"
   ]
  },
  {
   "cell_type": "code",
   "execution_count": 49,
   "id": "89a7a4b0-6b5c-4e9a-ac0c-2e1fe74ec8ef",
   "metadata": {},
   "outputs": [],
   "source": [
    "### Numpy -- Data types"
   ]
  },
  {
   "cell_type": "code",
   "execution_count": 50,
   "id": "6115d585-02e5-424c-9ea9-8c1333b1e418",
   "metadata": {},
   "outputs": [],
   "source": [
    "l = [2,3,4,5,6]"
   ]
  },
  {
   "cell_type": "code",
   "execution_count": 51,
   "id": "746c2fbf-f089-4a66-b85f-cb1226824154",
   "metadata": {},
   "outputs": [
    {
     "data": {
      "text/plain": [
       "[2, 3, 4, 5, 6]"
      ]
     },
     "execution_count": 51,
     "metadata": {},
     "output_type": "execute_result"
    }
   ],
   "source": [
    "l"
   ]
  },
  {
   "cell_type": "code",
   "execution_count": 52,
   "id": "dd5fa34f-cf09-4342-a891-8d487ac12bad",
   "metadata": {},
   "outputs": [],
   "source": [
    "ar = np.array(l)"
   ]
  },
  {
   "cell_type": "code",
   "execution_count": 53,
   "id": "ca71017a-6566-48df-8870-628b38efa5ff",
   "metadata": {},
   "outputs": [
    {
     "data": {
      "text/plain": [
       "array([2, 3, 4, 5, 6])"
      ]
     },
     "execution_count": 53,
     "metadata": {},
     "output_type": "execute_result"
    }
   ],
   "source": [
    "ar"
   ]
  },
  {
   "cell_type": "code",
   "execution_count": 54,
   "id": "8ca5a4f0-4a33-4c28-979b-ddc6b8f862db",
   "metadata": {},
   "outputs": [
    {
     "data": {
      "text/plain": [
       "1"
      ]
     },
     "execution_count": 54,
     "metadata": {},
     "output_type": "execute_result"
    }
   ],
   "source": [
    "ar.ndim"
   ]
  },
  {
   "cell_type": "code",
   "execution_count": 55,
   "id": "d9fd0f0c-54d0-4d55-bc6e-d2cdb5440565",
   "metadata": {},
   "outputs": [],
   "source": [
    "ar2 = np.array([[1,2,4],[1,15,16]])"
   ]
  },
  {
   "cell_type": "code",
   "execution_count": 56,
   "id": "df932853-b2d9-4463-aa99-71d5374ec712",
   "metadata": {},
   "outputs": [
    {
     "data": {
      "text/plain": [
       "array([[ 1,  2,  4],\n",
       "       [ 1, 15, 16]])"
      ]
     },
     "execution_count": 56,
     "metadata": {},
     "output_type": "execute_result"
    }
   ],
   "source": [
    "ar2"
   ]
  },
  {
   "cell_type": "code",
   "execution_count": 57,
   "id": "915cd196-6b82-4d60-bb24-043589add5b1",
   "metadata": {},
   "outputs": [
    {
     "data": {
      "text/plain": [
       "2"
      ]
     },
     "execution_count": 57,
     "metadata": {},
     "output_type": "execute_result"
    }
   ],
   "source": [
    "ar2.ndim"
   ]
  },
  {
   "cell_type": "code",
   "execution_count": 58,
   "id": "c178c92e-49a1-4547-b456-c425e362a967",
   "metadata": {},
   "outputs": [
    {
     "data": {
      "text/plain": [
       "5"
      ]
     },
     "execution_count": 58,
     "metadata": {},
     "output_type": "execute_result"
    }
   ],
   "source": [
    "ar.size\n"
   ]
  },
  {
   "cell_type": "code",
   "execution_count": 60,
   "id": "3cf071d9-8e48-4974-adc2-d78b1b7c999f",
   "metadata": {},
   "outputs": [
    {
     "data": {
      "text/plain": [
       "6"
      ]
     },
     "execution_count": 60,
     "metadata": {},
     "output_type": "execute_result"
    }
   ],
   "source": [
    "ar2.size"
   ]
  },
  {
   "cell_type": "code",
   "execution_count": 61,
   "id": "0194e2ac-8c2c-4e32-9d94-be2daa4b62cb",
   "metadata": {},
   "outputs": [
    {
     "data": {
      "text/plain": [
       "array([[ 1,  2,  4],\n",
       "       [ 1, 15, 16]])"
      ]
     },
     "execution_count": 61,
     "metadata": {},
     "output_type": "execute_result"
    }
   ],
   "source": [
    "ar2"
   ]
  },
  {
   "cell_type": "code",
   "execution_count": 62,
   "id": "a2a8ca85-d096-4fe7-a6c7-063ae7671394",
   "metadata": {},
   "outputs": [
    {
     "data": {
      "text/plain": [
       "(2, 3)"
      ]
     },
     "execution_count": 62,
     "metadata": {},
     "output_type": "execute_result"
    }
   ],
   "source": [
    "ar2.shape"
   ]
  },
  {
   "cell_type": "code",
   "execution_count": 63,
   "id": "28b55a67-6522-4506-989b-5feee47aa49a",
   "metadata": {},
   "outputs": [
    {
     "data": {
      "text/plain": [
       "(5,)"
      ]
     },
     "execution_count": 63,
     "metadata": {},
     "output_type": "execute_result"
    }
   ],
   "source": [
    "ar.shape"
   ]
  },
  {
   "cell_type": "code",
   "execution_count": 64,
   "id": "892d579f-6e96-48d1-9b7b-4b412b0f9883",
   "metadata": {},
   "outputs": [
    {
     "data": {
      "text/plain": [
       "dtype('int64')"
      ]
     },
     "execution_count": 64,
     "metadata": {},
     "output_type": "execute_result"
    }
   ],
   "source": [
    "ar.dtype"
   ]
  },
  {
   "cell_type": "code",
   "execution_count": 65,
   "id": "77ed22c5-c0a5-4f7b-8ec0-c1ee54e8a175",
   "metadata": {},
   "outputs": [
    {
     "data": {
      "text/plain": [
       "dtype('int64')"
      ]
     },
     "execution_count": 65,
     "metadata": {},
     "output_type": "execute_result"
    }
   ],
   "source": [
    "ar2.dtype"
   ]
  },
  {
   "cell_type": "code",
   "execution_count": 66,
   "id": "a56b0ac8-b900-412b-aab9-205c6dd43f28",
   "metadata": {},
   "outputs": [],
   "source": [
    "ar22 = np.array([(1.4,145,45),(23,45,56)])"
   ]
  },
  {
   "cell_type": "code",
   "execution_count": 67,
   "id": "a11687c9-f778-4f5c-811a-0cd483d8429d",
   "metadata": {},
   "outputs": [
    {
     "data": {
      "text/plain": [
       "array([[  1.4, 145. ,  45. ],\n",
       "       [ 23. ,  45. ,  56. ]])"
      ]
     },
     "execution_count": 67,
     "metadata": {},
     "output_type": "execute_result"
    }
   ],
   "source": [
    "ar22"
   ]
  },
  {
   "cell_type": "code",
   "execution_count": 68,
   "id": "81db05b7-7df0-4cd6-a4dc-bd0d51e2a9d0",
   "metadata": {},
   "outputs": [
    {
     "data": {
      "text/plain": [
       "dtype('float64')"
      ]
     },
     "execution_count": 68,
     "metadata": {},
     "output_type": "execute_result"
    }
   ],
   "source": [
    "ar22.dtype"
   ]
  },
  {
   "cell_type": "code",
   "execution_count": 69,
   "id": "e98629c3-d3d8-475e-8710-65e7575912f1",
   "metadata": {},
   "outputs": [
    {
     "data": {
      "text/plain": [
       "[0, 1, 2, 3, 4]"
      ]
     },
     "execution_count": 69,
     "metadata": {},
     "output_type": "execute_result"
    }
   ],
   "source": [
    "list(range(5))"
   ]
  },
  {
   "cell_type": "code",
   "execution_count": 70,
   "id": "ce56ebfe-985e-43b0-b81b-e12412127667",
   "metadata": {},
   "outputs": [
    {
     "ename": "TypeError",
     "evalue": "'float' object cannot be interpreted as an integer",
     "output_type": "error",
     "traceback": [
      "\u001b[0;31m---------------------------------------------------------------------------\u001b[0m",
      "\u001b[0;31mTypeError\u001b[0m                                 Traceback (most recent call last)",
      "Cell \u001b[0;32mIn[70], line 1\u001b[0m\n\u001b[0;32m----> 1\u001b[0m \u001b[38;5;28mlist\u001b[39m(\u001b[38;5;28;43mrange\u001b[39;49m\u001b[43m(\u001b[49m\u001b[38;5;241;43m0.1\u001b[39;49m\u001b[43m,\u001b[49m\u001b[43m \u001b[49m\u001b[38;5;241;43m5\u001b[39;49m\u001b[43m)\u001b[49m)\n",
      "\u001b[0;31mTypeError\u001b[0m: 'float' object cannot be interpreted as an integer"
     ]
    }
   ],
   "source": [
    "list(range(0.1, 5))"
   ]
  },
  {
   "cell_type": "code",
   "execution_count": 71,
   "id": "25bb8054-c8b6-4bc3-936a-8a93abd2ec91",
   "metadata": {},
   "outputs": [
    {
     "data": {
      "text/plain": [
       "array([2.3, 3.3, 4.3, 5.3])"
      ]
     },
     "execution_count": 71,
     "metadata": {},
     "output_type": "execute_result"
    }
   ],
   "source": [
    "np.arange(2.3,5.6)"
   ]
  },
  {
   "cell_type": "code",
   "execution_count": 73,
   "id": "f7bbf4de-b305-437d-a9dd-3c054aba25c7",
   "metadata": {},
   "outputs": [
    {
     "data": {
      "text/plain": [
       "[2.3,\n",
       " 2.6999999999999997,\n",
       " 3.0999999999999996,\n",
       " 3.4999999999999996,\n",
       " 3.8999999999999995,\n",
       " 4.299999999999999,\n",
       " 4.699999999999999,\n",
       " 5.1,\n",
       " 5.499999999999999]"
      ]
     },
     "execution_count": 73,
     "metadata": {},
     "output_type": "execute_result"
    }
   ],
   "source": [
    "list(np.arange(2.3,5.6,0.4))"
   ]
  },
  {
   "cell_type": "code",
   "execution_count": 74,
   "id": "1dbb8d11-2eb2-45f5-a134-742f3a29775b",
   "metadata": {},
   "outputs": [
    {
     "data": {
      "text/plain": [
       "array([1.        , 1.44444444, 1.88888889, 2.33333333, 2.77777778,\n",
       "       3.22222222, 3.66666667, 4.11111111, 4.55555556, 5.        ])"
      ]
     },
     "execution_count": 74,
     "metadata": {},
     "output_type": "execute_result"
    }
   ],
   "source": [
    "np.linspace(1,5,10)"
   ]
  },
  {
   "cell_type": "code",
   "execution_count": 75,
   "id": "93dced35-199a-429b-8851-96ac6a3efc55",
   "metadata": {},
   "outputs": [
    {
     "data": {
      "text/plain": [
       "array([0., 0., 0., 0., 0.])"
      ]
     },
     "execution_count": 75,
     "metadata": {},
     "output_type": "execute_result"
    }
   ],
   "source": [
    "np.zeros(5)"
   ]
  },
  {
   "cell_type": "code",
   "execution_count": 77,
   "id": "eda9f1b1-52df-4787-b503-a11e906bb7ef",
   "metadata": {},
   "outputs": [
    {
     "data": {
      "text/plain": [
       "array([[0., 0., 0., 0.],\n",
       "       [0., 0., 0., 0.],\n",
       "       [0., 0., 0., 0.]])"
      ]
     },
     "execution_count": 77,
     "metadata": {},
     "output_type": "execute_result"
    }
   ],
   "source": [
    "np.zeros((3,4))"
   ]
  },
  {
   "cell_type": "code",
   "execution_count": 78,
   "id": "79fe5dc2-0fdb-401b-ab59-1c411df35414",
   "metadata": {},
   "outputs": [
    {
     "data": {
      "text/plain": [
       "array([[[0., 0.],\n",
       "        [0., 0.],\n",
       "        [0., 0.],\n",
       "        [0., 0.]],\n",
       "\n",
       "       [[0., 0.],\n",
       "        [0., 0.],\n",
       "        [0., 0.],\n",
       "        [0., 0.]],\n",
       "\n",
       "       [[0., 0.],\n",
       "        [0., 0.],\n",
       "        [0., 0.],\n",
       "        [0., 0.]]])"
      ]
     },
     "execution_count": 78,
     "metadata": {},
     "output_type": "execute_result"
    }
   ],
   "source": [
    "np.zeros((3,4,2))"
   ]
  },
  {
   "cell_type": "code",
   "execution_count": 79,
   "id": "8fd52391-abb3-42e8-aed3-c37b37bed540",
   "metadata": {},
   "outputs": [
    {
     "data": {
      "text/plain": [
       "array([[[[0., 0., 0.],\n",
       "         [0., 0., 0.]],\n",
       "\n",
       "        [[0., 0., 0.],\n",
       "         [0., 0., 0.]],\n",
       "\n",
       "        [[0., 0., 0.],\n",
       "         [0., 0., 0.]],\n",
       "\n",
       "        [[0., 0., 0.],\n",
       "         [0., 0., 0.]]],\n",
       "\n",
       "\n",
       "       [[[0., 0., 0.],\n",
       "         [0., 0., 0.]],\n",
       "\n",
       "        [[0., 0., 0.],\n",
       "         [0., 0., 0.]],\n",
       "\n",
       "        [[0., 0., 0.],\n",
       "         [0., 0., 0.]],\n",
       "\n",
       "        [[0., 0., 0.],\n",
       "         [0., 0., 0.]]],\n",
       "\n",
       "\n",
       "       [[[0., 0., 0.],\n",
       "         [0., 0., 0.]],\n",
       "\n",
       "        [[0., 0., 0.],\n",
       "         [0., 0., 0.]],\n",
       "\n",
       "        [[0., 0., 0.],\n",
       "         [0., 0., 0.]],\n",
       "\n",
       "        [[0., 0., 0.],\n",
       "         [0., 0., 0.]]]])"
      ]
     },
     "execution_count": 79,
     "metadata": {},
     "output_type": "execute_result"
    }
   ],
   "source": [
    "np.zeros((3,4,2,3))"
   ]
  },
  {
   "cell_type": "code",
   "execution_count": 80,
   "id": "66357340-9b00-481e-a615-3cc28fa18013",
   "metadata": {},
   "outputs": [],
   "source": [
    "ar4 = np.zeros((3,4,2,3))"
   ]
  },
  {
   "cell_type": "code",
   "execution_count": 81,
   "id": "feb9f301-3a76-420a-a902-3986e09bf002",
   "metadata": {},
   "outputs": [
    {
     "data": {
      "text/plain": [
       "4"
      ]
     },
     "execution_count": 81,
     "metadata": {},
     "output_type": "execute_result"
    }
   ],
   "source": [
    "ar4.ndim"
   ]
  },
  {
   "cell_type": "code",
   "execution_count": 82,
   "id": "f40b05f4-0fd7-46f4-8d1a-d2bfa26216e7",
   "metadata": {},
   "outputs": [
    {
     "data": {
      "text/plain": [
       "array([1., 1., 1., 1.])"
      ]
     },
     "execution_count": 82,
     "metadata": {},
     "output_type": "execute_result"
    }
   ],
   "source": [
    "np.ones(4)"
   ]
  },
  {
   "cell_type": "code",
   "execution_count": 84,
   "id": "23636ccc-694b-4291-a3c4-4e28d77eadda",
   "metadata": {},
   "outputs": [
    {
     "data": {
      "text/plain": [
       "array([[1., 1., 1.],\n",
       "       [1., 1., 1.]])"
      ]
     },
     "execution_count": 84,
     "metadata": {},
     "output_type": "execute_result"
    }
   ],
   "source": [
    "np.ones((2,3))"
   ]
  },
  {
   "cell_type": "code",
   "execution_count": 86,
   "id": "2ab20849-6d1f-48d5-931c-ee6b6b2f325b",
   "metadata": {},
   "outputs": [
    {
     "data": {
      "text/plain": [
       "array([[[1., 1.],\n",
       "        [1., 1.],\n",
       "        [1., 1.]],\n",
       "\n",
       "       [[1., 1.],\n",
       "        [1., 1.],\n",
       "        [1., 1.]]])"
      ]
     },
     "execution_count": 86,
     "metadata": {},
     "output_type": "execute_result"
    }
   ],
   "source": [
    "on = np.ones((2,3,2))\n",
    "on"
   ]
  },
  {
   "cell_type": "code",
   "execution_count": 87,
   "id": "022396d8-6dec-4f07-b22c-d8ac7da710da",
   "metadata": {},
   "outputs": [
    {
     "data": {
      "text/plain": [
       "array([[[7., 7.],\n",
       "        [7., 7.],\n",
       "        [7., 7.]],\n",
       "\n",
       "       [[7., 7.],\n",
       "        [7., 7.],\n",
       "        [7., 7.]]])"
      ]
     },
     "execution_count": 87,
     "metadata": {},
     "output_type": "execute_result"
    }
   ],
   "source": [
    "on +6"
   ]
  },
  {
   "cell_type": "code",
   "execution_count": 88,
   "id": "f953f69b-73b4-4b8c-8672-fdb0f0795673",
   "metadata": {},
   "outputs": [
    {
     "data": {
      "text/plain": [
       "array([[[4., 4.],\n",
       "        [4., 4.],\n",
       "        [4., 4.]],\n",
       "\n",
       "       [[4., 4.],\n",
       "        [4., 4.],\n",
       "        [4., 4.]]])"
      ]
     },
     "execution_count": 88,
     "metadata": {},
     "output_type": "execute_result"
    }
   ],
   "source": [
    "on*4"
   ]
  },
  {
   "cell_type": "code",
   "execution_count": 90,
   "id": "6bdd9816-a9c0-40ba-9c75-6984539abd8a",
   "metadata": {},
   "outputs": [
    {
     "data": {
      "text/plain": [
       "array([[4., 4., 4., 4.],\n",
       "       [4., 4., 4., 4.],\n",
       "       [4., 4., 4., 4.]])"
      ]
     },
     "execution_count": 90,
     "metadata": {},
     "output_type": "execute_result"
    }
   ],
   "source": [
    "np.empty((3,4))"
   ]
  },
  {
   "cell_type": "code",
   "execution_count": 91,
   "id": "dae623c6-e27c-400a-9f58-dc6811086a0e",
   "metadata": {},
   "outputs": [
    {
     "data": {
      "text/plain": [
       "array([[4.64344665e-310, 0.00000000e+000, 0.00000000e+000,\n",
       "        0.00000000e+000, 0.00000000e+000],\n",
       "       [0.00000000e+000, 0.00000000e+000, 0.00000000e+000,\n",
       "        0.00000000e+000, 0.00000000e+000],\n",
       "       [0.00000000e+000, 0.00000000e+000, 0.00000000e+000,\n",
       "        0.00000000e+000, 6.32404027e-322]])"
      ]
     },
     "execution_count": 91,
     "metadata": {},
     "output_type": "execute_result"
    }
   ],
   "source": [
    "np.empty((3,5))"
   ]
  },
  {
   "cell_type": "code",
   "execution_count": 92,
   "id": "9c09118c-b5a8-46d4-bacf-a941401eb855",
   "metadata": {},
   "outputs": [
    {
     "data": {
      "text/plain": [
       "array([[1., 0., 0., 0., 0.],\n",
       "       [0., 1., 0., 0., 0.],\n",
       "       [0., 0., 1., 0., 0.],\n",
       "       [0., 0., 0., 1., 0.],\n",
       "       [0., 0., 0., 0., 1.]])"
      ]
     },
     "execution_count": 92,
     "metadata": {},
     "output_type": "execute_result"
    }
   ],
   "source": [
    "np.eye(5)"
   ]
  },
  {
   "cell_type": "code",
   "execution_count": 93,
   "id": "429802c1-f6d2-4178-ad31-e72913eeed3a",
   "metadata": {},
   "outputs": [
    {
     "data": {
      "text/plain": [
       "array([2.        , 2.14285714, 2.28571429, 2.42857143, 2.57142857,\n",
       "       2.71428571, 2.85714286, 3.        , 3.14285714, 3.28571429,\n",
       "       3.42857143, 3.57142857, 3.71428571, 3.85714286, 4.        ])"
      ]
     },
     "execution_count": 93,
     "metadata": {},
     "output_type": "execute_result"
    }
   ],
   "source": [
    "np.linspace(2,4,15)"
   ]
  },
  {
   "cell_type": "code",
   "execution_count": 94,
   "id": "ea82a01c-45bd-47b4-b7d3-c3f5d6723b8e",
   "metadata": {},
   "outputs": [
    {
     "data": {
      "text/plain": [
       "array([   100.        ,    215.443469  ,    464.15888336,   1000.        ,\n",
       "         2154.43469003,   4641.58883361,  10000.        ,  21544.34690032,\n",
       "        46415.88833613, 100000.        ])"
      ]
     },
     "execution_count": 94,
     "metadata": {},
     "output_type": "execute_result"
    }
   ],
   "source": [
    "np.logspace(2,5,10)  ## its base is 10"
   ]
  },
  {
   "cell_type": "code",
   "execution_count": 95,
   "id": "d1343e9a-9076-4c5d-a67a-93e43d0ad409",
   "metadata": {},
   "outputs": [
    {
     "data": {
      "text/plain": [
       "array([  9.        ,  12.98024613,  18.72075441,  27.        ,\n",
       "        38.9407384 ,  56.16226322,  81.        , 116.82221519,\n",
       "       168.48678967, 243.        ])"
      ]
     },
     "execution_count": 95,
     "metadata": {},
     "output_type": "execute_result"
    }
   ],
   "source": [
    "np.logspace(2,5,10,base = 3)  ## its base is 3"
   ]
  },
  {
   "cell_type": "code",
   "execution_count": 97,
   "id": "117c6440-0ea5-46fa-988f-5f07c7fc20c4",
   "metadata": {},
   "outputs": [],
   "source": [
    "arr = np.random.randn(3,4)"
   ]
  },
  {
   "cell_type": "code",
   "execution_count": 98,
   "id": "17272483-e730-48fa-aba9-d9e968f91434",
   "metadata": {},
   "outputs": [],
   "source": [
    "import pandas as pd"
   ]
  },
  {
   "cell_type": "code",
   "execution_count": 99,
   "id": "d26869df-1f46-47a3-ac5e-64ebaa853d25",
   "metadata": {},
   "outputs": [
    {
     "data": {
      "text/html": [
       "<div>\n",
       "<style scoped>\n",
       "    .dataframe tbody tr th:only-of-type {\n",
       "        vertical-align: middle;\n",
       "    }\n",
       "\n",
       "    .dataframe tbody tr th {\n",
       "        vertical-align: top;\n",
       "    }\n",
       "\n",
       "    .dataframe thead th {\n",
       "        text-align: right;\n",
       "    }\n",
       "</style>\n",
       "<table border=\"1\" class=\"dataframe\">\n",
       "  <thead>\n",
       "    <tr style=\"text-align: right;\">\n",
       "      <th></th>\n",
       "      <th>0</th>\n",
       "      <th>1</th>\n",
       "      <th>2</th>\n",
       "      <th>3</th>\n",
       "    </tr>\n",
       "  </thead>\n",
       "  <tbody>\n",
       "    <tr>\n",
       "      <th>0</th>\n",
       "      <td>0.604434</td>\n",
       "      <td>-0.072629</td>\n",
       "      <td>3.232680</td>\n",
       "      <td>-0.580015</td>\n",
       "    </tr>\n",
       "    <tr>\n",
       "      <th>1</th>\n",
       "      <td>1.627229</td>\n",
       "      <td>-1.392785</td>\n",
       "      <td>-2.980240</td>\n",
       "      <td>-0.941668</td>\n",
       "    </tr>\n",
       "    <tr>\n",
       "      <th>2</th>\n",
       "      <td>0.675636</td>\n",
       "      <td>0.092218</td>\n",
       "      <td>1.025185</td>\n",
       "      <td>-0.214725</td>\n",
       "    </tr>\n",
       "  </tbody>\n",
       "</table>\n",
       "</div>"
      ],
      "text/plain": [
       "          0         1         2         3\n",
       "0  0.604434 -0.072629  3.232680 -0.580015\n",
       "1  1.627229 -1.392785 -2.980240 -0.941668\n",
       "2  0.675636  0.092218  1.025185 -0.214725"
      ]
     },
     "execution_count": 99,
     "metadata": {},
     "output_type": "execute_result"
    }
   ],
   "source": [
    "pd.DataFrame(arr)"
   ]
  },
  {
   "cell_type": "code",
   "execution_count": 100,
   "id": "2b08203d-fb8b-4a69-9669-97d30e43ebfb",
   "metadata": {},
   "outputs": [
    {
     "data": {
      "text/plain": [
       "array([[-0.44867509,  0.16436512,  0.61518711, -0.64426735],\n",
       "       [ 0.14405371,  0.52356572, -0.03955844, -1.20146117],\n",
       "       [ 0.14205696, -0.70773295,  1.28416692, -0.19442385]])"
      ]
     },
     "execution_count": 100,
     "metadata": {},
     "output_type": "execute_result"
    }
   ],
   "source": [
    "np.random.randn(3,4)"
   ]
  },
  {
   "cell_type": "code",
   "execution_count": 104,
   "id": "a5f1699b-b560-4ff1-ba2d-1f6647ed7cf0",
   "metadata": {},
   "outputs": [
    {
     "data": {
      "text/plain": [
       "array([[ 85,  14,  39,  72],\n",
       "       [  4,  14, 108,  82],\n",
       "       [ 56,  16,  10,  31]])"
      ]
     },
     "execution_count": 104,
     "metadata": {},
     "output_type": "execute_result"
    }
   ],
   "source": [
    "np.random.randint(1,110,(3,4))"
   ]
  },
  {
   "cell_type": "code",
   "execution_count": 105,
   "id": "dd4ffd49-d70b-48a8-9edd-03cedd0e8fdd",
   "metadata": {},
   "outputs": [
    {
     "data": {
      "text/plain": [
       "array([[  7,  67,  73, ...,  93,  78,  44],\n",
       "       [ 85, 106,  24, ...,  48,  86,  25],\n",
       "       [ 23,  66,  72, ...,  34,  26,  54],\n",
       "       ...,\n",
       "       [ 72,  90, 100, ..., 106,   7,  96],\n",
       "       [ 66,  58,  72, ...,  58,  76,  67],\n",
       "       [ 73,  40,   5, ...,  49,  46,  23]])"
      ]
     },
     "execution_count": 105,
     "metadata": {},
     "output_type": "execute_result"
    }
   ],
   "source": [
    "np.random.randint(1,110,(300,400))"
   ]
  },
  {
   "cell_type": "code",
   "execution_count": 106,
   "id": "7bae36d9-12b2-4ea5-bdf1-068a881ad802",
   "metadata": {},
   "outputs": [
    {
     "data": {
      "text/html": [
       "<div>\n",
       "<style scoped>\n",
       "    .dataframe tbody tr th:only-of-type {\n",
       "        vertical-align: middle;\n",
       "    }\n",
       "\n",
       "    .dataframe tbody tr th {\n",
       "        vertical-align: top;\n",
       "    }\n",
       "\n",
       "    .dataframe thead th {\n",
       "        text-align: right;\n",
       "    }\n",
       "</style>\n",
       "<table border=\"1\" class=\"dataframe\">\n",
       "  <thead>\n",
       "    <tr style=\"text-align: right;\">\n",
       "      <th></th>\n",
       "      <th>0</th>\n",
       "      <th>1</th>\n",
       "      <th>2</th>\n",
       "      <th>3</th>\n",
       "      <th>4</th>\n",
       "      <th>5</th>\n",
       "      <th>6</th>\n",
       "      <th>7</th>\n",
       "      <th>8</th>\n",
       "      <th>9</th>\n",
       "      <th>...</th>\n",
       "      <th>390</th>\n",
       "      <th>391</th>\n",
       "      <th>392</th>\n",
       "      <th>393</th>\n",
       "      <th>394</th>\n",
       "      <th>395</th>\n",
       "      <th>396</th>\n",
       "      <th>397</th>\n",
       "      <th>398</th>\n",
       "      <th>399</th>\n",
       "    </tr>\n",
       "  </thead>\n",
       "  <tbody>\n",
       "    <tr>\n",
       "      <th>0</th>\n",
       "      <td>67</td>\n",
       "      <td>4</td>\n",
       "      <td>82</td>\n",
       "      <td>24</td>\n",
       "      <td>60</td>\n",
       "      <td>64</td>\n",
       "      <td>14</td>\n",
       "      <td>20</td>\n",
       "      <td>92</td>\n",
       "      <td>5</td>\n",
       "      <td>...</td>\n",
       "      <td>20</td>\n",
       "      <td>54</td>\n",
       "      <td>66</td>\n",
       "      <td>57</td>\n",
       "      <td>104</td>\n",
       "      <td>4</td>\n",
       "      <td>33</td>\n",
       "      <td>6</td>\n",
       "      <td>84</td>\n",
       "      <td>9</td>\n",
       "    </tr>\n",
       "    <tr>\n",
       "      <th>1</th>\n",
       "      <td>50</td>\n",
       "      <td>8</td>\n",
       "      <td>26</td>\n",
       "      <td>53</td>\n",
       "      <td>12</td>\n",
       "      <td>80</td>\n",
       "      <td>72</td>\n",
       "      <td>42</td>\n",
       "      <td>18</td>\n",
       "      <td>32</td>\n",
       "      <td>...</td>\n",
       "      <td>101</td>\n",
       "      <td>90</td>\n",
       "      <td>74</td>\n",
       "      <td>66</td>\n",
       "      <td>51</td>\n",
       "      <td>9</td>\n",
       "      <td>1</td>\n",
       "      <td>49</td>\n",
       "      <td>6</td>\n",
       "      <td>95</td>\n",
       "    </tr>\n",
       "    <tr>\n",
       "      <th>2</th>\n",
       "      <td>13</td>\n",
       "      <td>43</td>\n",
       "      <td>61</td>\n",
       "      <td>85</td>\n",
       "      <td>74</td>\n",
       "      <td>46</td>\n",
       "      <td>9</td>\n",
       "      <td>58</td>\n",
       "      <td>78</td>\n",
       "      <td>68</td>\n",
       "      <td>...</td>\n",
       "      <td>84</td>\n",
       "      <td>7</td>\n",
       "      <td>64</td>\n",
       "      <td>69</td>\n",
       "      <td>27</td>\n",
       "      <td>25</td>\n",
       "      <td>12</td>\n",
       "      <td>70</td>\n",
       "      <td>93</td>\n",
       "      <td>31</td>\n",
       "    </tr>\n",
       "    <tr>\n",
       "      <th>3</th>\n",
       "      <td>14</td>\n",
       "      <td>103</td>\n",
       "      <td>58</td>\n",
       "      <td>24</td>\n",
       "      <td>2</td>\n",
       "      <td>20</td>\n",
       "      <td>106</td>\n",
       "      <td>19</td>\n",
       "      <td>40</td>\n",
       "      <td>81</td>\n",
       "      <td>...</td>\n",
       "      <td>76</td>\n",
       "      <td>95</td>\n",
       "      <td>43</td>\n",
       "      <td>28</td>\n",
       "      <td>107</td>\n",
       "      <td>74</td>\n",
       "      <td>6</td>\n",
       "      <td>2</td>\n",
       "      <td>18</td>\n",
       "      <td>86</td>\n",
       "    </tr>\n",
       "    <tr>\n",
       "      <th>4</th>\n",
       "      <td>16</td>\n",
       "      <td>10</td>\n",
       "      <td>40</td>\n",
       "      <td>50</td>\n",
       "      <td>98</td>\n",
       "      <td>102</td>\n",
       "      <td>58</td>\n",
       "      <td>72</td>\n",
       "      <td>4</td>\n",
       "      <td>90</td>\n",
       "      <td>...</td>\n",
       "      <td>27</td>\n",
       "      <td>87</td>\n",
       "      <td>60</td>\n",
       "      <td>81</td>\n",
       "      <td>2</td>\n",
       "      <td>105</td>\n",
       "      <td>65</td>\n",
       "      <td>80</td>\n",
       "      <td>11</td>\n",
       "      <td>74</td>\n",
       "    </tr>\n",
       "    <tr>\n",
       "      <th>...</th>\n",
       "      <td>...</td>\n",
       "      <td>...</td>\n",
       "      <td>...</td>\n",
       "      <td>...</td>\n",
       "      <td>...</td>\n",
       "      <td>...</td>\n",
       "      <td>...</td>\n",
       "      <td>...</td>\n",
       "      <td>...</td>\n",
       "      <td>...</td>\n",
       "      <td>...</td>\n",
       "      <td>...</td>\n",
       "      <td>...</td>\n",
       "      <td>...</td>\n",
       "      <td>...</td>\n",
       "      <td>...</td>\n",
       "      <td>...</td>\n",
       "      <td>...</td>\n",
       "      <td>...</td>\n",
       "      <td>...</td>\n",
       "      <td>...</td>\n",
       "    </tr>\n",
       "    <tr>\n",
       "      <th>295</th>\n",
       "      <td>103</td>\n",
       "      <td>57</td>\n",
       "      <td>90</td>\n",
       "      <td>11</td>\n",
       "      <td>56</td>\n",
       "      <td>42</td>\n",
       "      <td>39</td>\n",
       "      <td>21</td>\n",
       "      <td>26</td>\n",
       "      <td>20</td>\n",
       "      <td>...</td>\n",
       "      <td>14</td>\n",
       "      <td>89</td>\n",
       "      <td>104</td>\n",
       "      <td>23</td>\n",
       "      <td>8</td>\n",
       "      <td>30</td>\n",
       "      <td>78</td>\n",
       "      <td>71</td>\n",
       "      <td>82</td>\n",
       "      <td>101</td>\n",
       "    </tr>\n",
       "    <tr>\n",
       "      <th>296</th>\n",
       "      <td>87</td>\n",
       "      <td>54</td>\n",
       "      <td>64</td>\n",
       "      <td>102</td>\n",
       "      <td>109</td>\n",
       "      <td>7</td>\n",
       "      <td>71</td>\n",
       "      <td>98</td>\n",
       "      <td>86</td>\n",
       "      <td>100</td>\n",
       "      <td>...</td>\n",
       "      <td>31</td>\n",
       "      <td>26</td>\n",
       "      <td>60</td>\n",
       "      <td>54</td>\n",
       "      <td>56</td>\n",
       "      <td>93</td>\n",
       "      <td>46</td>\n",
       "      <td>3</td>\n",
       "      <td>48</td>\n",
       "      <td>63</td>\n",
       "    </tr>\n",
       "    <tr>\n",
       "      <th>297</th>\n",
       "      <td>96</td>\n",
       "      <td>93</td>\n",
       "      <td>14</td>\n",
       "      <td>51</td>\n",
       "      <td>70</td>\n",
       "      <td>31</td>\n",
       "      <td>59</td>\n",
       "      <td>31</td>\n",
       "      <td>83</td>\n",
       "      <td>92</td>\n",
       "      <td>...</td>\n",
       "      <td>4</td>\n",
       "      <td>75</td>\n",
       "      <td>73</td>\n",
       "      <td>97</td>\n",
       "      <td>46</td>\n",
       "      <td>20</td>\n",
       "      <td>82</td>\n",
       "      <td>5</td>\n",
       "      <td>72</td>\n",
       "      <td>33</td>\n",
       "    </tr>\n",
       "    <tr>\n",
       "      <th>298</th>\n",
       "      <td>100</td>\n",
       "      <td>91</td>\n",
       "      <td>7</td>\n",
       "      <td>21</td>\n",
       "      <td>42</td>\n",
       "      <td>97</td>\n",
       "      <td>68</td>\n",
       "      <td>88</td>\n",
       "      <td>1</td>\n",
       "      <td>44</td>\n",
       "      <td>...</td>\n",
       "      <td>36</td>\n",
       "      <td>43</td>\n",
       "      <td>108</td>\n",
       "      <td>95</td>\n",
       "      <td>84</td>\n",
       "      <td>72</td>\n",
       "      <td>98</td>\n",
       "      <td>65</td>\n",
       "      <td>46</td>\n",
       "      <td>107</td>\n",
       "    </tr>\n",
       "    <tr>\n",
       "      <th>299</th>\n",
       "      <td>85</td>\n",
       "      <td>43</td>\n",
       "      <td>39</td>\n",
       "      <td>19</td>\n",
       "      <td>38</td>\n",
       "      <td>107</td>\n",
       "      <td>85</td>\n",
       "      <td>37</td>\n",
       "      <td>15</td>\n",
       "      <td>109</td>\n",
       "      <td>...</td>\n",
       "      <td>55</td>\n",
       "      <td>93</td>\n",
       "      <td>78</td>\n",
       "      <td>67</td>\n",
       "      <td>90</td>\n",
       "      <td>14</td>\n",
       "      <td>17</td>\n",
       "      <td>58</td>\n",
       "      <td>23</td>\n",
       "      <td>60</td>\n",
       "    </tr>\n",
       "  </tbody>\n",
       "</table>\n",
       "<p>300 rows × 400 columns</p>\n",
       "</div>"
      ],
      "text/plain": [
       "     0    1    2    3    4    5    6    7    8    9    ...  390  391  392  \\\n",
       "0     67    4   82   24   60   64   14   20   92    5  ...   20   54   66   \n",
       "1     50    8   26   53   12   80   72   42   18   32  ...  101   90   74   \n",
       "2     13   43   61   85   74   46    9   58   78   68  ...   84    7   64   \n",
       "3     14  103   58   24    2   20  106   19   40   81  ...   76   95   43   \n",
       "4     16   10   40   50   98  102   58   72    4   90  ...   27   87   60   \n",
       "..   ...  ...  ...  ...  ...  ...  ...  ...  ...  ...  ...  ...  ...  ...   \n",
       "295  103   57   90   11   56   42   39   21   26   20  ...   14   89  104   \n",
       "296   87   54   64  102  109    7   71   98   86  100  ...   31   26   60   \n",
       "297   96   93   14   51   70   31   59   31   83   92  ...    4   75   73   \n",
       "298  100   91    7   21   42   97   68   88    1   44  ...   36   43  108   \n",
       "299   85   43   39   19   38  107   85   37   15  109  ...   55   93   78   \n",
       "\n",
       "     393  394  395  396  397  398  399  \n",
       "0     57  104    4   33    6   84    9  \n",
       "1     66   51    9    1   49    6   95  \n",
       "2     69   27   25   12   70   93   31  \n",
       "3     28  107   74    6    2   18   86  \n",
       "4     81    2  105   65   80   11   74  \n",
       "..   ...  ...  ...  ...  ...  ...  ...  \n",
       "295   23    8   30   78   71   82  101  \n",
       "296   54   56   93   46    3   48   63  \n",
       "297   97   46   20   82    5   72   33  \n",
       "298   95   84   72   98   65   46  107  \n",
       "299   67   90   14   17   58   23   60  \n",
       "\n",
       "[300 rows x 400 columns]"
      ]
     },
     "execution_count": 106,
     "metadata": {},
     "output_type": "execute_result"
    }
   ],
   "source": [
    "pd.DataFrame(np.random.randint(1,110,(300,400)))"
   ]
  },
  {
   "cell_type": "code",
   "execution_count": 107,
   "id": "50c057e1-0c6d-4f84-bb1c-721b172da344",
   "metadata": {},
   "outputs": [],
   "source": [
    "pd.DataFrame(np.random.randint(1,110,(300,400))).to_csv('test.csv')"
   ]
  },
  {
   "cell_type": "code",
   "execution_count": 108,
   "id": "1cf71e5d-fb2e-45bb-82aa-0055de5f47b0",
   "metadata": {},
   "outputs": [],
   "source": [
    "arr = np.random.rand(3,4)"
   ]
  },
  {
   "cell_type": "code",
   "execution_count": 109,
   "id": "2065df27-288c-4fc1-a770-00fbb3ccab34",
   "metadata": {},
   "outputs": [
    {
     "data": {
      "text/plain": [
       "array([[0.67787473, 0.18608734, 0.68613349, 0.4573846 ],\n",
       "       [0.84812243, 0.74857109, 0.33451749, 0.9427647 ],\n",
       "       [0.22398617, 0.06515943, 0.27097022, 0.65217814]])"
      ]
     },
     "execution_count": 109,
     "metadata": {},
     "output_type": "execute_result"
    }
   ],
   "source": [
    "arr"
   ]
  },
  {
   "cell_type": "code",
   "execution_count": 111,
   "id": "e5555b7f-6e9d-441e-9546-9793083db8d2",
   "metadata": {},
   "outputs": [
    {
     "ename": "ValueError",
     "evalue": "cannot reshape array of size 12 into shape (6,3)",
     "output_type": "error",
     "traceback": [
      "\u001b[0;31m---------------------------------------------------------------------------\u001b[0m",
      "\u001b[0;31mValueError\u001b[0m                                Traceback (most recent call last)",
      "Cell \u001b[0;32mIn[111], line 1\u001b[0m\n\u001b[0;32m----> 1\u001b[0m \u001b[43marr\u001b[49m\u001b[38;5;241;43m.\u001b[39;49m\u001b[43mreshape\u001b[49m\u001b[43m(\u001b[49m\u001b[38;5;241;43m6\u001b[39;49m\u001b[43m,\u001b[49m\u001b[38;5;241;43m3\u001b[39;49m\u001b[43m)\u001b[49m\n",
      "\u001b[0;31mValueError\u001b[0m: cannot reshape array of size 12 into shape (6,3)"
     ]
    }
   ],
   "source": [
    "arr.reshape(6,3)"
   ]
  },
  {
   "cell_type": "code",
   "execution_count": 112,
   "id": "666c575f-26b2-4def-b10f-ca07f3844108",
   "metadata": {},
   "outputs": [
    {
     "data": {
      "text/plain": [
       "array([[0.67787473, 0.18608734],\n",
       "       [0.68613349, 0.4573846 ],\n",
       "       [0.84812243, 0.74857109],\n",
       "       [0.33451749, 0.9427647 ],\n",
       "       [0.22398617, 0.06515943],\n",
       "       [0.27097022, 0.65217814]])"
      ]
     },
     "execution_count": 112,
     "metadata": {},
     "output_type": "execute_result"
    }
   ],
   "source": [
    "arr.reshape(6,2)"
   ]
  },
  {
   "cell_type": "code",
   "execution_count": 114,
   "id": "0094bf1a-bc39-4aa9-a350-4aa18f5c2283",
   "metadata": {},
   "outputs": [
    {
     "data": {
      "text/plain": [
       "array([[0.67787473, 0.18608734],\n",
       "       [0.68613349, 0.4573846 ],\n",
       "       [0.84812243, 0.74857109],\n",
       "       [0.33451749, 0.9427647 ],\n",
       "       [0.22398617, 0.06515943],\n",
       "       [0.27097022, 0.65217814]])"
      ]
     },
     "execution_count": 114,
     "metadata": {},
     "output_type": "execute_result"
    }
   ],
   "source": [
    "arr1 = arr.reshape(6,-4548486)\n",
    "arr1"
   ]
  },
  {
   "cell_type": "code",
   "execution_count": 115,
   "id": "73b08e9c-0b82-4ea5-8182-9524714c653d",
   "metadata": {},
   "outputs": [
    {
     "data": {
      "text/plain": [
       "array([0.68613349, 0.4573846 ])"
      ]
     },
     "execution_count": 115,
     "metadata": {},
     "output_type": "execute_result"
    }
   ],
   "source": [
    "arr1[1]"
   ]
  },
  {
   "cell_type": "code",
   "execution_count": 116,
   "id": "0eb0267d-2d88-4c3f-b062-947cd3341356",
   "metadata": {},
   "outputs": [
    {
     "data": {
      "text/plain": [
       "0.45738460161411976"
      ]
     },
     "execution_count": 116,
     "metadata": {},
     "output_type": "execute_result"
    }
   ],
   "source": [
    "arr1[1][1]"
   ]
  },
  {
   "cell_type": "code",
   "execution_count": 117,
   "id": "2855326e-80c2-434f-9f0c-539f396af107",
   "metadata": {},
   "outputs": [
    {
     "data": {
      "text/plain": [
       "array([[0.84812243, 0.74857109],\n",
       "       [0.33451749, 0.9427647 ],\n",
       "       [0.22398617, 0.06515943]])"
      ]
     },
     "execution_count": 117,
     "metadata": {},
     "output_type": "execute_result"
    }
   ],
   "source": [
    "arr1[2:5]"
   ]
  },
  {
   "cell_type": "code",
   "execution_count": 118,
   "id": "211ddbd7-3e22-408f-8acc-a2e8714b75d0",
   "metadata": {},
   "outputs": [
    {
     "data": {
      "text/plain": [
       "array([0.74857109, 0.9427647 , 0.06515943])"
      ]
     },
     "execution_count": 118,
     "metadata": {},
     "output_type": "execute_result"
    }
   ],
   "source": [
    "arr1[2:5,1]"
   ]
  },
  {
   "cell_type": "code",
   "execution_count": 120,
   "id": "a1b1fb1a-fb22-4878-a97b-a7e640663a27",
   "metadata": {},
   "outputs": [
    {
     "data": {
      "text/plain": [
       "array([[30, 79, 64, 45, 46],\n",
       "       [98, 56, 79, 11, 71],\n",
       "       [98, 68, 70, 52, 14],\n",
       "       [25, 13, 88,  2, 52],\n",
       "       [56, 71, 85, 49, 96]])"
      ]
     },
     "execution_count": 120,
     "metadata": {},
     "output_type": "execute_result"
    }
   ],
   "source": [
    "arr = np.random.randint(1,100,(5,5))\n",
    "arr"
   ]
  },
  {
   "cell_type": "code",
   "execution_count": 122,
   "id": "e0134682-5a6f-44b2-9764-2100c4a8c0f8",
   "metadata": {},
   "outputs": [
    {
     "data": {
      "text/plain": [
       "array([79, 64, 98, 56, 79, 71, 98, 68, 70, 52, 88, 52, 56, 71, 85, 96])"
      ]
     },
     "execution_count": 122,
     "metadata": {},
     "output_type": "execute_result"
    }
   ],
   "source": [
    "arr[arr>50]"
   ]
  },
  {
   "cell_type": "code",
   "execution_count": 123,
   "id": "82c8ee37-d0a0-4634-81ce-769e5d878ca3",
   "metadata": {},
   "outputs": [
    {
     "data": {
      "text/plain": [
       "array([[30, 79, 64, 45, 46],\n",
       "       [98, 56, 79, 11, 71],\n",
       "       [98, 68, 70, 52, 14],\n",
       "       [25, 13, 88,  2, 52],\n",
       "       [56, 71, 85, 49, 96]])"
      ]
     },
     "execution_count": 123,
     "metadata": {},
     "output_type": "execute_result"
    }
   ],
   "source": [
    "arr"
   ]
  },
  {
   "cell_type": "code",
   "execution_count": 124,
   "id": "e83112a0-b2b7-4b3b-8a24-54e77aecf390",
   "metadata": {},
   "outputs": [
    {
     "data": {
      "text/plain": [
       "array([[68, 70],\n",
       "       [13, 88]])"
      ]
     },
     "execution_count": 124,
     "metadata": {},
     "output_type": "execute_result"
    }
   ],
   "source": [
    "arr[2:4,[1,2]]"
   ]
  },
  {
   "cell_type": "code",
   "execution_count": 125,
   "id": "b6e91ab2-78ca-4bf9-a117-c8388e49aa17",
   "metadata": {},
   "outputs": [
    {
     "data": {
      "text/plain": [
       "30"
      ]
     },
     "execution_count": 125,
     "metadata": {},
     "output_type": "execute_result"
    }
   ],
   "source": [
    "arr[0][0]"
   ]
  },
  {
   "cell_type": "code",
   "execution_count": 126,
   "id": "3248ee67-cac1-4194-9ea8-2a1fe2117e16",
   "metadata": {},
   "outputs": [],
   "source": [
    "arr[0][0] = 500"
   ]
  },
  {
   "cell_type": "code",
   "execution_count": 127,
   "id": "0cd8fe05-a099-4a4a-8304-89e0ee19c384",
   "metadata": {},
   "outputs": [
    {
     "data": {
      "text/plain": [
       "array([[500,  79,  64,  45,  46],\n",
       "       [ 98,  56,  79,  11,  71],\n",
       "       [ 98,  68,  70,  52,  14],\n",
       "       [ 25,  13,  88,   2,  52],\n",
       "       [ 56,  71,  85,  49,  96]])"
      ]
     },
     "execution_count": 127,
     "metadata": {},
     "output_type": "execute_result"
    }
   ],
   "source": [
    "arr"
   ]
  },
  {
   "cell_type": "code",
   "execution_count": 4,
   "id": "c3c5e0d8-b03d-4128-a0cb-e93aa96d6c87",
   "metadata": {},
   "outputs": [],
   "source": [
    "import numpy as np\n",
    "arr1 = np.random.randint(1,3,(3,3))\n",
    "arr2 = np.random.randint(1,3,(3,3))"
   ]
  },
  {
   "cell_type": "code",
   "execution_count": 5,
   "id": "c9476575-0302-42ff-a762-c497aa64e179",
   "metadata": {},
   "outputs": [
    {
     "data": {
      "text/plain": [
       "array([[2, 1, 2],\n",
       "       [1, 2, 2],\n",
       "       [2, 2, 1]])"
      ]
     },
     "execution_count": 5,
     "metadata": {},
     "output_type": "execute_result"
    }
   ],
   "source": [
    "arr1"
   ]
  },
  {
   "cell_type": "code",
   "execution_count": 6,
   "id": "12940b49-6f96-4ae3-8e77-fb1124390100",
   "metadata": {},
   "outputs": [
    {
     "data": {
      "text/plain": [
       "array([[1, 1, 1],\n",
       "       [2, 1, 2],\n",
       "       [1, 2, 2]])"
      ]
     },
     "execution_count": 6,
     "metadata": {},
     "output_type": "execute_result"
    }
   ],
   "source": [
    "arr2"
   ]
  },
  {
   "cell_type": "code",
   "execution_count": 7,
   "id": "a4f7b5d5-dedf-48fe-a91c-61315a118251",
   "metadata": {},
   "outputs": [
    {
     "data": {
      "text/plain": [
       "array([[3, 2, 3],\n",
       "       [3, 3, 4],\n",
       "       [3, 4, 3]])"
      ]
     },
     "execution_count": 7,
     "metadata": {},
     "output_type": "execute_result"
    }
   ],
   "source": [
    "arr1+arr2"
   ]
  },
  {
   "cell_type": "code",
   "execution_count": 8,
   "id": "4eaae1c2-e4f3-47b8-a91d-f111a291ca12",
   "metadata": {},
   "outputs": [
    {
     "data": {
      "text/plain": [
       "array([[ 1,  0,  1],\n",
       "       [-1,  1,  0],\n",
       "       [ 1,  0, -1]])"
      ]
     },
     "execution_count": 8,
     "metadata": {},
     "output_type": "execute_result"
    }
   ],
   "source": [
    "arr1-arr2"
   ]
  },
  {
   "cell_type": "code",
   "execution_count": 9,
   "id": "6c8ff6d5-2dfe-41af-a476-376c46516359",
   "metadata": {},
   "outputs": [
    {
     "data": {
      "text/plain": [
       "array([[2. , 1. , 2. ],\n",
       "       [0.5, 2. , 1. ],\n",
       "       [2. , 1. , 0.5]])"
      ]
     },
     "execution_count": 9,
     "metadata": {},
     "output_type": "execute_result"
    }
   ],
   "source": [
    "arr1/arr2"
   ]
  },
  {
   "cell_type": "code",
   "execution_count": 10,
   "id": "f6cd80b3-cb6e-4273-9b72-87d4cefe4b63",
   "metadata": {},
   "outputs": [
    {
     "data": {
      "text/plain": [
       "array([[2, 1, 2],\n",
       "       [2, 2, 4],\n",
       "       [2, 4, 2]])"
      ]
     },
     "execution_count": 10,
     "metadata": {},
     "output_type": "execute_result"
    }
   ],
   "source": [
    "arr1*arr2"
   ]
  },
  {
   "cell_type": "code",
   "execution_count": 13,
   "id": "ba0991a4-b962-4aa4-aa9e-451da592573c",
   "metadata": {},
   "outputs": [
    {
     "data": {
      "text/plain": [
       "(array([[2, 1, 2],\n",
       "        [1, 2, 2],\n",
       "        [2, 2, 1]]),\n",
       " array([[1, 1, 1],\n",
       "        [2, 1, 2],\n",
       "        [1, 2, 2]]))"
      ]
     },
     "execution_count": 13,
     "metadata": {},
     "output_type": "execute_result"
    }
   ],
   "source": [
    "arr1, arr2"
   ]
  },
  {
   "cell_type": "code",
   "execution_count": 14,
   "id": "4afdd2c3-8257-4404-b994-2d817e5ddfda",
   "metadata": {},
   "outputs": [
    {
     "data": {
      "text/plain": [
       "array([[6, 7, 8],\n",
       "       [7, 7, 9],\n",
       "       [7, 6, 8]])"
      ]
     },
     "execution_count": 14,
     "metadata": {},
     "output_type": "execute_result"
    }
   ],
   "source": [
    "arr1@arr2"
   ]
  },
  {
   "cell_type": "code",
   "execution_count": 15,
   "id": "d8f8e18f-60d9-4b74-ae3c-60afdc5815ba",
   "metadata": {},
   "outputs": [
    {
     "name": "stderr",
     "output_type": "stream",
     "text": [
      "/tmp/ipykernel_5669/1510032488.py:1: RuntimeWarning: divide by zero encountered in divide\n",
      "  arr1/0\n"
     ]
    },
    {
     "data": {
      "text/plain": [
       "array([[inf, inf, inf],\n",
       "       [inf, inf, inf],\n",
       "       [inf, inf, inf]])"
      ]
     },
     "execution_count": 15,
     "metadata": {},
     "output_type": "execute_result"
    }
   ],
   "source": [
    "arr1/0"
   ]
  },
  {
   "cell_type": "code",
   "execution_count": 16,
   "id": "07edc3b6-5576-456e-9282-8a977548c415",
   "metadata": {},
   "outputs": [
    {
     "data": {
      "text/plain": [
       "array([[102, 101, 102],\n",
       "       [101, 102, 102],\n",
       "       [102, 102, 101]])"
      ]
     },
     "execution_count": 16,
     "metadata": {},
     "output_type": "execute_result"
    }
   ],
   "source": [
    "arr1+100"
   ]
  },
  {
   "cell_type": "code",
   "execution_count": 17,
   "id": "9191416f-eca6-497f-88f2-671c0417dce9",
   "metadata": {},
   "outputs": [
    {
     "data": {
      "text/plain": [
       "array([[8, 1, 8],\n",
       "       [1, 8, 8],\n",
       "       [8, 8, 1]])"
      ]
     },
     "execution_count": 17,
     "metadata": {},
     "output_type": "execute_result"
    }
   ],
   "source": [
    "arr1**3"
   ]
  },
  {
   "cell_type": "markdown",
   "id": "3d55ee3c-c38e-4f4f-9712-4cc75a0429c7",
   "metadata": {},
   "source": [
    "## Numpy Broad-casting"
   ]
  },
  {
   "cell_type": "code",
   "execution_count": 19,
   "id": "4e876287-ea12-4b2e-b2e9-48b1b7012e36",
   "metadata": {},
   "outputs": [],
   "source": [
    "arr = np.zeros((4,4))"
   ]
  },
  {
   "cell_type": "code",
   "execution_count": 20,
   "id": "06b8f038-9315-4f1a-a73e-98267e23a11e",
   "metadata": {},
   "outputs": [
    {
     "data": {
      "text/plain": [
       "array([[0., 0., 0., 0.],\n",
       "       [0., 0., 0., 0.],\n",
       "       [0., 0., 0., 0.],\n",
       "       [0., 0., 0., 0.]])"
      ]
     },
     "execution_count": 20,
     "metadata": {},
     "output_type": "execute_result"
    }
   ],
   "source": [
    "arr"
   ]
  },
  {
   "cell_type": "code",
   "execution_count": 21,
   "id": "bd4bb73e-8bc9-4748-a3f9-122c249aaad4",
   "metadata": {},
   "outputs": [],
   "source": [
    "row = np.array([1,2,3,4])"
   ]
  },
  {
   "cell_type": "code",
   "execution_count": 22,
   "id": "f84e3270-487c-4610-8e53-331de4894977",
   "metadata": {},
   "outputs": [
    {
     "data": {
      "text/plain": [
       "array([1, 2, 3, 4])"
      ]
     },
     "execution_count": 22,
     "metadata": {},
     "output_type": "execute_result"
    }
   ],
   "source": [
    "row"
   ]
  },
  {
   "cell_type": "code",
   "execution_count": 23,
   "id": "d5390e4d-0b01-4402-a5ea-faa848858033",
   "metadata": {},
   "outputs": [
    {
     "data": {
      "text/plain": [
       "array([[1., 2., 3., 4.],\n",
       "       [1., 2., 3., 4.],\n",
       "       [1., 2., 3., 4.],\n",
       "       [1., 2., 3., 4.]])"
      ]
     },
     "execution_count": 23,
     "metadata": {},
     "output_type": "execute_result"
    }
   ],
   "source": [
    "arr+row"
   ]
  },
  {
   "cell_type": "code",
   "execution_count": 24,
   "id": "5926a2ac-daa9-4a54-8f3f-9089348fdf04",
   "metadata": {},
   "outputs": [
    {
     "data": {
      "text/plain": [
       "array([1, 2, 3, 4])"
      ]
     },
     "execution_count": 24,
     "metadata": {},
     "output_type": "execute_result"
    }
   ],
   "source": [
    "row.T"
   ]
  },
  {
   "cell_type": "code",
   "execution_count": 25,
   "id": "091bd2b4-7054-45c0-989a-08a54dc6b4a7",
   "metadata": {},
   "outputs": [
    {
     "data": {
      "text/plain": [
       "array([[1],\n",
       "       [2],\n",
       "       [3],\n",
       "       [4]])"
      ]
     },
     "execution_count": 25,
     "metadata": {},
     "output_type": "execute_result"
    }
   ],
   "source": [
    "col = np.array([[1,2,3,4]])\n",
    "col.T"
   ]
  },
  {
   "cell_type": "code",
   "execution_count": 27,
   "id": "bdda5ab4-50df-4998-9e15-0e94ed74b693",
   "metadata": {},
   "outputs": [
    {
     "data": {
      "text/plain": [
       "array([[1., 1., 1., 1.],\n",
       "       [2., 2., 2., 2.],\n",
       "       [3., 3., 3., 3.],\n",
       "       [4., 4., 4., 4.]])"
      ]
     },
     "execution_count": 27,
     "metadata": {},
     "output_type": "execute_result"
    }
   ],
   "source": [
    "col.T +arr"
   ]
  },
  {
   "cell_type": "code",
   "execution_count": 28,
   "id": "5b9a473a-87fa-4e37-840e-40cdbc1e691c",
   "metadata": {},
   "outputs": [
    {
     "data": {
      "text/plain": [
       "array([[1, 2, 2, 1],\n",
       "       [3, 2, 1, 1],\n",
       "       [3, 2, 2, 3]])"
      ]
     },
     "execution_count": 28,
     "metadata": {},
     "output_type": "execute_result"
    }
   ],
   "source": [
    "arr1 = np.random.randint(1,4,(3,4))\n",
    "arr1"
   ]
  },
  {
   "cell_type": "code",
   "execution_count": 29,
   "id": "671af715-1c00-4bcc-b7b5-3f3617b03a47",
   "metadata": {},
   "outputs": [
    {
     "data": {
      "text/plain": [
       "array([[1.        , 1.41421356, 1.41421356, 1.        ],\n",
       "       [1.73205081, 1.41421356, 1.        , 1.        ],\n",
       "       [1.73205081, 1.41421356, 1.41421356, 1.73205081]])"
      ]
     },
     "execution_count": 29,
     "metadata": {},
     "output_type": "execute_result"
    }
   ],
   "source": [
    "np.sqrt(arr1)"
   ]
  },
  {
   "cell_type": "code",
   "execution_count": 30,
   "id": "b76b0d4e-3df8-4834-96e7-7980fca32f8c",
   "metadata": {},
   "outputs": [
    {
     "data": {
      "text/plain": [
       "array([[ 2.71828183,  7.3890561 ,  7.3890561 ,  2.71828183],\n",
       "       [20.08553692,  7.3890561 ,  2.71828183,  2.71828183],\n",
       "       [20.08553692,  7.3890561 ,  7.3890561 , 20.08553692]])"
      ]
     },
     "execution_count": 30,
     "metadata": {},
     "output_type": "execute_result"
    }
   ],
   "source": [
    "np.exp(arr1)"
   ]
  },
  {
   "cell_type": "code",
   "execution_count": 31,
   "id": "10b2bb33-1e97-4a16-b8a3-9488b07ed9a2",
   "metadata": {},
   "outputs": [
    {
     "data": {
      "text/plain": [
       "array([[0.        , 0.30103   , 0.30103   , 0.        ],\n",
       "       [0.47712125, 0.30103   , 0.        , 0.        ],\n",
       "       [0.47712125, 0.30103   , 0.30103   , 0.47712125]])"
      ]
     },
     "execution_count": 31,
     "metadata": {},
     "output_type": "execute_result"
    }
   ],
   "source": [
    "np.log10(arr1)"
   ]
  },
  {
   "cell_type": "code",
   "execution_count": null,
   "id": "5b618079-17e2-4e53-bb6c-4b518011e66b",
   "metadata": {},
   "outputs": [],
   "source": []
  },
  {
   "cell_type": "markdown",
   "id": "f6bde251-e7c1-46a2-89b4-85a27870ab7f",
   "metadata": {},
   "source": [
    "## Numpy part 2 "
   ]
  },
  {
   "cell_type": "code",
   "execution_count": 1,
   "id": "9aa3726f-3b8a-45d1-b084-e511365dd4e4",
   "metadata": {},
   "outputs": [],
   "source": [
    "# Array Manipulation"
   ]
  },
  {
   "cell_type": "code",
   "execution_count": 2,
   "id": "a824eee2-ea4c-4ae7-a62e-b25f768ab143",
   "metadata": {},
   "outputs": [],
   "source": [
    "import numpy as np"
   ]
  },
  {
   "cell_type": "code",
   "execution_count": 3,
   "id": "9c8c265a-0769-47de-b91e-8dd8e6d5a566",
   "metadata": {},
   "outputs": [],
   "source": [
    "arr = np.random.randint(1,10,(3,4))"
   ]
  },
  {
   "cell_type": "code",
   "execution_count": 4,
   "id": "642651c3-c135-498f-a5ea-fbc67f86ef2d",
   "metadata": {},
   "outputs": [
    {
     "data": {
      "text/plain": [
       "array([[8, 6, 4, 1],\n",
       "       [7, 9, 9, 4],\n",
       "       [7, 7, 2, 7]])"
      ]
     },
     "execution_count": 4,
     "metadata": {},
     "output_type": "execute_result"
    }
   ],
   "source": [
    "arr"
   ]
  },
  {
   "cell_type": "code",
   "execution_count": 5,
   "id": "b5a7599d-4a8f-4590-ba74-44d32f7ffd11",
   "metadata": {},
   "outputs": [
    {
     "data": {
      "text/plain": [
       "array([[8, 6],\n",
       "       [4, 1],\n",
       "       [7, 9],\n",
       "       [9, 4],\n",
       "       [7, 7],\n",
       "       [2, 7]])"
      ]
     },
     "execution_count": 5,
     "metadata": {},
     "output_type": "execute_result"
    }
   ],
   "source": [
    "arr.reshape(6,2)"
   ]
  },
  {
   "cell_type": "code",
   "execution_count": 6,
   "id": "5ff24400-5c08-4087-b796-6ce4567f5e66",
   "metadata": {},
   "outputs": [
    {
     "data": {
      "text/plain": [
       "array([[8, 6, 4, 1, 7, 9],\n",
       "       [9, 4, 7, 7, 2, 7]])"
      ]
     },
     "execution_count": 6,
     "metadata": {},
     "output_type": "execute_result"
    }
   ],
   "source": [
    "arr.reshape(2,6)"
   ]
  },
  {
   "cell_type": "code",
   "execution_count": 7,
   "id": "392be444-92b8-45e1-9a3b-bf2a32c2e18a",
   "metadata": {},
   "outputs": [
    {
     "ename": "ValueError",
     "evalue": "cannot reshape array of size 12 into shape (2,7)",
     "output_type": "error",
     "traceback": [
      "\u001b[0;31m---------------------------------------------------------------------------\u001b[0m",
      "\u001b[0;31mValueError\u001b[0m                                Traceback (most recent call last)",
      "Cell \u001b[0;32mIn[7], line 1\u001b[0m\n\u001b[0;32m----> 1\u001b[0m \u001b[43marr\u001b[49m\u001b[38;5;241;43m.\u001b[39;49m\u001b[43mreshape\u001b[49m\u001b[43m(\u001b[49m\u001b[38;5;241;43m2\u001b[39;49m\u001b[43m,\u001b[49m\u001b[38;5;241;43m7\u001b[39;49m\u001b[43m)\u001b[49m\n",
      "\u001b[0;31mValueError\u001b[0m: cannot reshape array of size 12 into shape (2,7)"
     ]
    }
   ],
   "source": [
    "arr.reshape(2,7)"
   ]
  },
  {
   "cell_type": "code",
   "execution_count": 8,
   "id": "338d1edc-a1df-4f50-ad3f-220845451b64",
   "metadata": {},
   "outputs": [
    {
     "data": {
      "text/plain": [
       "array([[8, 7, 7],\n",
       "       [6, 9, 7],\n",
       "       [4, 9, 2],\n",
       "       [1, 4, 7]])"
      ]
     },
     "execution_count": 8,
     "metadata": {},
     "output_type": "execute_result"
    }
   ],
   "source": [
    "arr.T"
   ]
  },
  {
   "cell_type": "code",
   "execution_count": 9,
   "id": "19c5f329-efc0-4e06-82e9-39112bd8d760",
   "metadata": {},
   "outputs": [
    {
     "data": {
      "text/plain": [
       "array([[8, 6, 4, 1],\n",
       "       [7, 9, 9, 4],\n",
       "       [7, 7, 2, 7]])"
      ]
     },
     "execution_count": 9,
     "metadata": {},
     "output_type": "execute_result"
    }
   ],
   "source": [
    "arr"
   ]
  },
  {
   "cell_type": "code",
   "execution_count": 10,
   "id": "4dbf164b-f16d-4ac2-a710-bdca8d36ea99",
   "metadata": {},
   "outputs": [
    {
     "data": {
      "text/plain": [
       "array([8, 6, 4, 1, 7, 9, 9, 4, 7, 7, 2, 7])"
      ]
     },
     "execution_count": 10,
     "metadata": {},
     "output_type": "execute_result"
    }
   ],
   "source": [
    "arr.flatten()"
   ]
  },
  {
   "cell_type": "code",
   "execution_count": 11,
   "id": "e2594d02-8728-4128-99d9-42746c98fecd",
   "metadata": {},
   "outputs": [],
   "source": [
    "arr1 = np.array([1,2,4,5,6])"
   ]
  },
  {
   "cell_type": "code",
   "execution_count": 12,
   "id": "697af523-50f5-46b9-b19b-f285eb1ae672",
   "metadata": {},
   "outputs": [
    {
     "data": {
      "text/plain": [
       "1"
      ]
     },
     "execution_count": 12,
     "metadata": {},
     "output_type": "execute_result"
    }
   ],
   "source": [
    "arr1.ndim"
   ]
  },
  {
   "cell_type": "code",
   "execution_count": 14,
   "id": "703386e4-b281-4fff-bbe3-b7269c10df77",
   "metadata": {},
   "outputs": [
    {
     "data": {
      "text/plain": [
       "array([[1],\n",
       "       [2],\n",
       "       [4],\n",
       "       [5],\n",
       "       [6]])"
      ]
     },
     "execution_count": 14,
     "metadata": {},
     "output_type": "execute_result"
    }
   ],
   "source": [
    "np.expand_dims(arr1,axis = 1)"
   ]
  },
  {
   "cell_type": "code",
   "execution_count": 15,
   "id": "9a4e5c96-6764-4027-94a0-a48d8789a5ca",
   "metadata": {},
   "outputs": [
    {
     "data": {
      "text/plain": [
       "array([[1, 2, 4, 5, 6]])"
      ]
     },
     "execution_count": 15,
     "metadata": {},
     "output_type": "execute_result"
    }
   ],
   "source": [
    "np.expand_dims(arr1,axis = 0)"
   ]
  },
  {
   "cell_type": "code",
   "execution_count": 16,
   "id": "76fad0c8-9c8f-4b57-ad30-0d346c5dfab7",
   "metadata": {},
   "outputs": [
    {
     "data": {
      "text/plain": [
       "array([[8, 6, 4, 1],\n",
       "       [7, 9, 9, 4],\n",
       "       [7, 7, 2, 7]])"
      ]
     },
     "execution_count": 16,
     "metadata": {},
     "output_type": "execute_result"
    }
   ],
   "source": [
    "arr"
   ]
  },
  {
   "cell_type": "code",
   "execution_count": 17,
   "id": "95af71dc-7b10-4525-b015-3ab3315bb2e0",
   "metadata": {},
   "outputs": [
    {
     "data": {
      "text/plain": [
       "array([[8, 6, 4, 1],\n",
       "       [7, 9, 9, 4],\n",
       "       [7, 7, 2, 7]])"
      ]
     },
     "execution_count": 17,
     "metadata": {},
     "output_type": "execute_result"
    }
   ],
   "source": [
    "np.squeeze(arr)"
   ]
  },
  {
   "cell_type": "code",
   "execution_count": 19,
   "id": "a10293c5-e07e-4574-bdf4-a6461b149bf7",
   "metadata": {},
   "outputs": [],
   "source": [
    "data = np.array([[1],[2],[3]])"
   ]
  },
  {
   "cell_type": "code",
   "execution_count": 20,
   "id": "9d553728-3cc6-4436-8981-5e639af3c9aa",
   "metadata": {},
   "outputs": [
    {
     "data": {
      "text/plain": [
       "array([1, 2, 3])"
      ]
     },
     "execution_count": 20,
     "metadata": {},
     "output_type": "execute_result"
    }
   ],
   "source": [
    "np.squeeze(data)"
   ]
  },
  {
   "cell_type": "code",
   "execution_count": 21,
   "id": "ce6b75f8-642c-47a7-abc4-024aa9eb2e1c",
   "metadata": {},
   "outputs": [
    {
     "data": {
      "text/plain": [
       "array([[1],\n",
       "       [2],\n",
       "       [3]])"
      ]
     },
     "execution_count": 21,
     "metadata": {},
     "output_type": "execute_result"
    }
   ],
   "source": [
    "data"
   ]
  },
  {
   "cell_type": "code",
   "execution_count": 22,
   "id": "06cc7fa9-2138-4141-a64c-df5b9a69d339",
   "metadata": {},
   "outputs": [
    {
     "data": {
      "text/plain": [
       "array([1, 2, 4, 5, 6])"
      ]
     },
     "execution_count": 22,
     "metadata": {},
     "output_type": "execute_result"
    }
   ],
   "source": [
    "arr1"
   ]
  },
  {
   "cell_type": "code",
   "execution_count": 23,
   "id": "1e775698-4fd7-44ea-ad77-cc8aa66f513d",
   "metadata": {},
   "outputs": [
    {
     "data": {
      "text/plain": [
       "array([1, 1, 1, 1, 2, 2, 2, 2, 4, 4, 4, 4, 5, 5, 5, 5, 6, 6, 6, 6])"
      ]
     },
     "execution_count": 23,
     "metadata": {},
     "output_type": "execute_result"
    }
   ],
   "source": [
    "np.repeat(arr1,4)"
   ]
  },
  {
   "cell_type": "code",
   "execution_count": 24,
   "id": "3d096882-9e67-425d-addb-1ed65dadb518",
   "metadata": {},
   "outputs": [
    {
     "data": {
      "text/plain": [
       "array([5, 6, 1, 2, 4])"
      ]
     },
     "execution_count": 24,
     "metadata": {},
     "output_type": "execute_result"
    }
   ],
   "source": [
    "np.roll(arr1,2)"
   ]
  },
  {
   "cell_type": "code",
   "execution_count": 25,
   "id": "0c5bce85-68ca-4088-8a33-a93ff7446315",
   "metadata": {},
   "outputs": [
    {
     "data": {
      "text/plain": [
       "array([1, 2, 4, 5, 6])"
      ]
     },
     "execution_count": 25,
     "metadata": {},
     "output_type": "execute_result"
    }
   ],
   "source": [
    "arr1"
   ]
  },
  {
   "cell_type": "code",
   "execution_count": 26,
   "id": "44d0d4f9-7a11-4e24-9fba-d56bbe428257",
   "metadata": {},
   "outputs": [
    {
     "data": {
      "text/plain": [
       "array([4, 5, 6, 1, 2])"
      ]
     },
     "execution_count": 26,
     "metadata": {},
     "output_type": "execute_result"
    }
   ],
   "source": [
    "np.roll(arr1,3)"
   ]
  },
  {
   "cell_type": "code",
   "execution_count": 27,
   "id": "9c04493a-8c07-447b-9ad7-57296fd959be",
   "metadata": {},
   "outputs": [
    {
     "data": {
      "text/plain": [
       "array([1, 2, 4, 5, 6])"
      ]
     },
     "execution_count": 27,
     "metadata": {},
     "output_type": "execute_result"
    }
   ],
   "source": [
    "arr1"
   ]
  },
  {
   "cell_type": "code",
   "execution_count": 28,
   "id": "c8739c89-9435-4f8a-821e-994310b9d9ea",
   "metadata": {},
   "outputs": [
    {
     "data": {
      "text/plain": [
       "array([[1, 0, 0, 0, 0],\n",
       "       [0, 2, 0, 0, 0],\n",
       "       [0, 0, 4, 0, 0],\n",
       "       [0, 0, 0, 5, 0],\n",
       "       [0, 0, 0, 0, 6]])"
      ]
     },
     "execution_count": 28,
     "metadata": {},
     "output_type": "execute_result"
    }
   ],
   "source": [
    "np.diag(arr1)"
   ]
  },
  {
   "cell_type": "code",
   "execution_count": 29,
   "id": "ad7aa188-9a44-436e-814d-92e8cc98ab6a",
   "metadata": {},
   "outputs": [],
   "source": [
    "## Numpy - Binary Operatipns"
   ]
  },
  {
   "cell_type": "code",
   "execution_count": 30,
   "id": "2c8e01c8-1ecd-4d28-9649-565447119729",
   "metadata": {},
   "outputs": [],
   "source": [
    "arr1 = np.random.randint(1,10,(3,4))"
   ]
  },
  {
   "cell_type": "code",
   "execution_count": 34,
   "id": "2a71d952-6e61-4f42-871f-f76b9889b0b4",
   "metadata": {},
   "outputs": [],
   "source": [
    "arr2 = np.random.randint(1,10,(3,4))"
   ]
  },
  {
   "cell_type": "code",
   "execution_count": 35,
   "id": "cefdb57d-fab7-4ebb-a4b2-d3a5d00af774",
   "metadata": {},
   "outputs": [
    {
     "data": {
      "text/plain": [
       "array([[3, 7, 8, 1],\n",
       "       [2, 2, 8, 2],\n",
       "       [5, 1, 6, 1]])"
      ]
     },
     "execution_count": 35,
     "metadata": {},
     "output_type": "execute_result"
    }
   ],
   "source": [
    "arr1"
   ]
  },
  {
   "cell_type": "code",
   "execution_count": 36,
   "id": "ae66e5fa-87cd-43a6-a8d5-4df5f7ccfc03",
   "metadata": {},
   "outputs": [
    {
     "data": {
      "text/plain": [
       "array([[5, 9, 6, 9],\n",
       "       [7, 9, 1, 5],\n",
       "       [8, 8, 8, 8]])"
      ]
     },
     "execution_count": 36,
     "metadata": {},
     "output_type": "execute_result"
    }
   ],
   "source": [
    "arr2"
   ]
  },
  {
   "cell_type": "markdown",
   "id": "df1c0b66-310e-47e8-a964-52b8647ad5a8",
   "metadata": {},
   "source": [
    "arr1+arr2"
   ]
  },
  {
   "cell_type": "code",
   "execution_count": 37,
   "id": "bc64683d-caf5-4989-be65-c8bfbf2fe217",
   "metadata": {},
   "outputs": [
    {
     "data": {
      "text/plain": [
       "array([[ 8, 16, 14, 10],\n",
       "       [ 9, 11,  9,  7],\n",
       "       [13,  9, 14,  9]])"
      ]
     },
     "execution_count": 37,
     "metadata": {},
     "output_type": "execute_result"
    }
   ],
   "source": [
    "arr1+arr2"
   ]
  },
  {
   "cell_type": "code",
   "execution_count": 38,
   "id": "71b909ae-3ec8-4270-804a-351037f9514c",
   "metadata": {},
   "outputs": [
    {
     "data": {
      "text/plain": [
       "array([[15, 63, 48,  9],\n",
       "       [14, 18,  8, 10],\n",
       "       [40,  8, 48,  8]])"
      ]
     },
     "execution_count": 38,
     "metadata": {},
     "output_type": "execute_result"
    }
   ],
   "source": [
    "arr1*arr2"
   ]
  },
  {
   "cell_type": "code",
   "execution_count": 39,
   "id": "7eb85618-5a52-4f1b-ab14-5bd6b50e3cbe",
   "metadata": {},
   "outputs": [
    {
     "data": {
      "text/plain": [
       "array([[0.6       , 0.77777778, 1.33333333, 0.11111111],\n",
       "       [0.28571429, 0.22222222, 8.        , 0.4       ],\n",
       "       [0.625     , 0.125     , 0.75      , 0.125     ]])"
      ]
     },
     "execution_count": 39,
     "metadata": {},
     "output_type": "execute_result"
    }
   ],
   "source": [
    "arr1/arr2"
   ]
  },
  {
   "cell_type": "code",
   "execution_count": 40,
   "id": "36cb4ba0-13fb-495a-877c-fb5d80a72b1d",
   "metadata": {},
   "outputs": [
    {
     "ename": "ValueError",
     "evalue": "matmul: Input operand 1 has a mismatch in its core dimension 0, with gufunc signature (n?,k),(k,m?)->(n?,m?) (size 3 is different from 4)",
     "output_type": "error",
     "traceback": [
      "\u001b[0;31m---------------------------------------------------------------------------\u001b[0m",
      "\u001b[0;31mValueError\u001b[0m                                Traceback (most recent call last)",
      "Cell \u001b[0;32mIn[40], line 1\u001b[0m\n\u001b[0;32m----> 1\u001b[0m \u001b[43marr1\u001b[49m\u001b[38;5;129;43m@arr2\u001b[39;49m\n",
      "\u001b[0;31mValueError\u001b[0m: matmul: Input operand 1 has a mismatch in its core dimension 0, with gufunc signature (n?,k),(k,m?)->(n?,m?) (size 3 is different from 4)"
     ]
    }
   ],
   "source": [
    "arr1@arr2"
   ]
  },
  {
   "cell_type": "code",
   "execution_count": 41,
   "id": "18d0b769-1730-4844-baa4-021110e6297b",
   "metadata": {},
   "outputs": [
    {
     "data": {
      "text/plain": [
       "array([[-2, -2,  2, -8],\n",
       "       [-5, -7,  7, -3],\n",
       "       [-3, -7, -2, -7]])"
      ]
     },
     "execution_count": 41,
     "metadata": {},
     "output_type": "execute_result"
    }
   ],
   "source": [
    "arr1-arr2"
   ]
  },
  {
   "cell_type": "code",
   "execution_count": 42,
   "id": "1479b34a-ce7e-461b-953f-1aac323b7286",
   "metadata": {},
   "outputs": [
    {
     "data": {
      "text/plain": [
       "array([[3, 7, 2, 1],\n",
       "       [2, 2, 0, 2],\n",
       "       [5, 1, 6, 1]])"
      ]
     },
     "execution_count": 42,
     "metadata": {},
     "output_type": "execute_result"
    }
   ],
   "source": [
    "arr1%arr2"
   ]
  },
  {
   "cell_type": "code",
   "execution_count": 43,
   "id": "9497aaa4-7444-4710-a821-fe7916c8a7ac",
   "metadata": {},
   "outputs": [
    {
     "data": {
      "text/plain": [
       "array([[     243, 40353607,   262144,        1],\n",
       "       [     128,      512,        8,       32],\n",
       "       [  390625,        1,  1679616,        1]])"
      ]
     },
     "execution_count": 43,
     "metadata": {},
     "output_type": "execute_result"
    }
   ],
   "source": [
    "arr1**arr2"
   ]
  },
  {
   "cell_type": "code",
   "execution_count": 44,
   "id": "c10697cf-097a-4b4a-b8f6-c06d76128221",
   "metadata": {},
   "outputs": [
    {
     "data": {
      "text/plain": [
       "array([[1, 1, 0, 1],\n",
       "       [2, 0, 0, 0],\n",
       "       [0, 0, 0, 0]])"
      ]
     },
     "execution_count": 44,
     "metadata": {},
     "output_type": "execute_result"
    }
   ],
   "source": [
    "arr1 & arr2"
   ]
  },
  {
   "cell_type": "code",
   "execution_count": 45,
   "id": "957a3169-c7c2-447f-bcb7-932b8a89d3bb",
   "metadata": {},
   "outputs": [
    {
     "data": {
      "text/plain": [
       "(array([[3, 7, 8, 1],\n",
       "        [2, 2, 8, 2],\n",
       "        [5, 1, 6, 1]]),\n",
       " array([[5, 9, 6, 9],\n",
       "        [7, 9, 1, 5],\n",
       "        [8, 8, 8, 8]]))"
      ]
     },
     "execution_count": 45,
     "metadata": {},
     "output_type": "execute_result"
    }
   ],
   "source": [
    "arr1,arr2"
   ]
  },
  {
   "cell_type": "code",
   "execution_count": 46,
   "id": "274a18a9-f325-421f-9cf7-6ea120df007d",
   "metadata": {},
   "outputs": [
    {
     "data": {
      "text/plain": [
       "array([[-4, -8, -9, -2],\n",
       "       [-3, -3, -9, -3],\n",
       "       [-6, -2, -7, -2]])"
      ]
     },
     "execution_count": 46,
     "metadata": {},
     "output_type": "execute_result"
    }
   ],
   "source": [
    "~arr1"
   ]
  },
  {
   "cell_type": "code",
   "execution_count": 47,
   "id": "1cc898f2-b6fe-4ef2-b55f-a5860b6edde2",
   "metadata": {},
   "outputs": [
    {
     "data": {
      "text/plain": [
       "array([[ 7, 15, 14,  9],\n",
       "       [ 7, 11,  9,  7],\n",
       "       [13,  9, 14,  9]])"
      ]
     },
     "execution_count": 47,
     "metadata": {},
     "output_type": "execute_result"
    }
   ],
   "source": [
    "arr1|arr2"
   ]
  },
  {
   "cell_type": "code",
   "execution_count": 48,
   "id": "0abea679-7cb1-4974-aac2-f46bdf3e2930",
   "metadata": {},
   "outputs": [
    {
     "data": {
      "text/plain": [
       "array([[False, False,  True, False],\n",
       "       [False, False,  True, False],\n",
       "       [False, False, False, False]])"
      ]
     },
     "execution_count": 48,
     "metadata": {},
     "output_type": "execute_result"
    }
   ],
   "source": [
    "arr1>arr2"
   ]
  },
  {
   "cell_type": "code",
   "execution_count": 49,
   "id": "6d475526-c4bb-40f4-a20e-4bad3872346d",
   "metadata": {},
   "outputs": [],
   "source": [
    "## Numpy _string Functions."
   ]
  },
  {
   "cell_type": "code",
   "execution_count": 52,
   "id": "481e3bab-41f3-4492-8442-c31eeca883d0",
   "metadata": {},
   "outputs": [],
   "source": [
    "arr = np.array(['pradeep','yati'])"
   ]
  },
  {
   "cell_type": "raw",
   "id": "d51e0b24-6ad1-447f-bb93-6bcea720092a",
   "metadata": {},
   "source": [
    "arr"
   ]
  },
  {
   "cell_type": "code",
   "execution_count": 53,
   "id": "1df1b337-6eb4-44c2-bb92-33984f28f136",
   "metadata": {},
   "outputs": [
    {
     "data": {
      "text/plain": [
       "array(['pradeep', 'yati'], dtype='<U7')"
      ]
     },
     "execution_count": 53,
     "metadata": {},
     "output_type": "execute_result"
    }
   ],
   "source": [
    "arr"
   ]
  },
  {
   "cell_type": "code",
   "execution_count": 54,
   "id": "cbaf7e71-6664-4a6a-8d79-3bfd1593e904",
   "metadata": {},
   "outputs": [
    {
     "data": {
      "text/plain": [
       "array(['PRADEEP', 'YATI'], dtype='<U7')"
      ]
     },
     "execution_count": 54,
     "metadata": {},
     "output_type": "execute_result"
    }
   ],
   "source": [
    "np.char.upper(arr)"
   ]
  },
  {
   "cell_type": "code",
   "execution_count": 55,
   "id": "9b7a5436-096a-403c-836a-81a7eba48ead",
   "metadata": {},
   "outputs": [
    {
     "data": {
      "text/plain": [
       "array(['Pradeep', 'Yati'], dtype='<U7')"
      ]
     },
     "execution_count": 55,
     "metadata": {},
     "output_type": "execute_result"
    }
   ],
   "source": [
    "np.char.title(arr)"
   ]
  },
  {
   "cell_type": "code",
   "execution_count": 56,
   "id": "c0d6d837-ec5d-4fa0-bf09-42df8ebf5929",
   "metadata": {},
   "outputs": [
    {
     "data": {
      "text/plain": [
       "array(['Pradeep', 'Yati'], dtype='<U7')"
      ]
     },
     "execution_count": 56,
     "metadata": {},
     "output_type": "execute_result"
    }
   ],
   "source": [
    "np.char.capitalize(arr)"
   ]
  },
  {
   "cell_type": "code",
   "execution_count": 57,
   "id": "452baabb-8ca0-4c93-bf4a-0b2c45d73c5f",
   "metadata": {},
   "outputs": [],
   "source": [
    "## Numpy Mathematical Functions."
   ]
  },
  {
   "cell_type": "code",
   "execution_count": 58,
   "id": "ca0ccaa7-5b92-4d2d-b436-aed8ee56797a",
   "metadata": {},
   "outputs": [
    {
     "data": {
      "text/plain": [
       "array([[3, 7, 8, 1],\n",
       "       [2, 2, 8, 2],\n",
       "       [5, 1, 6, 1]])"
      ]
     },
     "execution_count": 58,
     "metadata": {},
     "output_type": "execute_result"
    }
   ],
   "source": [
    "arr1"
   ]
  },
  {
   "cell_type": "code",
   "execution_count": 59,
   "id": "3c9a067b-c7d1-4e1a-93ef-b2c9bfc0b239",
   "metadata": {},
   "outputs": [
    {
     "data": {
      "text/plain": [
       "array([[ 0.14112001,  0.6569866 ,  0.98935825,  0.84147098],\n",
       "       [ 0.90929743,  0.90929743,  0.98935825,  0.90929743],\n",
       "       [-0.95892427,  0.84147098, -0.2794155 ,  0.84147098]])"
      ]
     },
     "execution_count": 59,
     "metadata": {},
     "output_type": "execute_result"
    }
   ],
   "source": [
    "np.sin(arr1)"
   ]
  },
  {
   "cell_type": "code",
   "execution_count": 60,
   "id": "dd5928d3-11e8-4e37-8a82-239fd5ed0681",
   "metadata": {},
   "outputs": [
    {
     "data": {
      "text/plain": [
       "array([[-0.9899925 ,  0.75390225, -0.14550003,  0.54030231],\n",
       "       [-0.41614684, -0.41614684, -0.14550003, -0.41614684],\n",
       "       [ 0.28366219,  0.54030231,  0.96017029,  0.54030231]])"
      ]
     },
     "execution_count": 60,
     "metadata": {},
     "output_type": "execute_result"
    }
   ],
   "source": [
    "np.cos(arr1)"
   ]
  },
  {
   "cell_type": "code",
   "execution_count": 61,
   "id": "155a0156-ce7f-4d6e-a4ce-c25690721580",
   "metadata": {},
   "outputs": [
    {
     "data": {
      "text/plain": [
       "array([[0.99505475, 0.99999834, 0.99999977, 0.76159416],\n",
       "       [0.96402758, 0.96402758, 0.99999977, 0.96402758],\n",
       "       [0.9999092 , 0.76159416, 0.99998771, 0.76159416]])"
      ]
     },
     "execution_count": 61,
     "metadata": {},
     "output_type": "execute_result"
    }
   ],
   "source": [
    "np.tanh(arr1)"
   ]
  },
  {
   "cell_type": "code",
   "execution_count": 62,
   "id": "6d4d0ea0-7061-4bf4-a351-66d558bd957b",
   "metadata": {},
   "outputs": [
    {
     "data": {
      "text/plain": [
       "array([[-0.14254654,  0.87144798, -6.79971146,  1.55740772],\n",
       "       [-2.18503986, -2.18503986, -6.79971146, -2.18503986],\n",
       "       [-3.38051501,  1.55740772, -0.29100619,  1.55740772]])"
      ]
     },
     "execution_count": 62,
     "metadata": {},
     "output_type": "execute_result"
    }
   ],
   "source": [
    "np.tan(arr1)"
   ]
  },
  {
   "cell_type": "code",
   "execution_count": 63,
   "id": "ee65faa4-64f1-4c85-b83f-05034eb1d4fa",
   "metadata": {},
   "outputs": [
    {
     "data": {
      "text/plain": [
       "array([[0.47712125, 0.84509804, 0.90308999, 0.        ],\n",
       "       [0.30103   , 0.30103   , 0.90308999, 0.30103   ],\n",
       "       [0.69897   , 0.        , 0.77815125, 0.        ]])"
      ]
     },
     "execution_count": 63,
     "metadata": {},
     "output_type": "execute_result"
    }
   ],
   "source": [
    "np.log10(arr1)"
   ]
  },
  {
   "cell_type": "code",
   "execution_count": 64,
   "id": "e1a5bc68-b514-47fa-9758-cf4a419c11e5",
   "metadata": {},
   "outputs": [
    {
     "data": {
      "text/plain": [
       "array([[2.00855369e+01, 1.09663316e+03, 2.98095799e+03, 2.71828183e+00],\n",
       "       [7.38905610e+00, 7.38905610e+00, 2.98095799e+03, 7.38905610e+00],\n",
       "       [1.48413159e+02, 2.71828183e+00, 4.03428793e+02, 2.71828183e+00]])"
      ]
     },
     "execution_count": 64,
     "metadata": {},
     "output_type": "execute_result"
    }
   ],
   "source": [
    "np.exp(arr1)"
   ]
  },
  {
   "cell_type": "code",
   "execution_count": 66,
   "id": "d64c4ff3-d6e0-4fa5-a391-30ec6206352c",
   "metadata": {},
   "outputs": [
    {
     "data": {
      "text/plain": [
       "array([[1.73205081, 2.64575131, 2.82842712, 1.        ],\n",
       "       [1.41421356, 1.41421356, 2.82842712, 1.41421356],\n",
       "       [2.23606798, 1.        , 2.44948974, 1.        ]])"
      ]
     },
     "execution_count": 66,
     "metadata": {},
     "output_type": "execute_result"
    }
   ],
   "source": [
    "np.sqrt((arr1))"
   ]
  },
  {
   "cell_type": "code",
   "execution_count": 67,
   "id": "73999953-a26c-4079-90ee-a150ecf6b71f",
   "metadata": {},
   "outputs": [
    {
     "data": {
      "text/plain": [
       "array([[ 27, 343, 512,   1],\n",
       "       [  8,   8, 512,   8],\n",
       "       [125,   1, 216,   1]])"
      ]
     },
     "execution_count": 67,
     "metadata": {},
     "output_type": "execute_result"
    }
   ],
   "source": [
    "np.power(arr1,3)"
   ]
  },
  {
   "cell_type": "code",
   "execution_count": 68,
   "id": "b2974a63-4ec7-4049-8761-d107539e09ad",
   "metadata": {},
   "outputs": [
    {
     "data": {
      "text/plain": [
       "3.8333333333333335"
      ]
     },
     "execution_count": 68,
     "metadata": {},
     "output_type": "execute_result"
    }
   ],
   "source": [
    "np.mean(arr1)"
   ]
  },
  {
   "cell_type": "code",
   "execution_count": 69,
   "id": "e0262f78-2141-4921-b1fe-21ddfe3e4e71",
   "metadata": {},
   "outputs": [
    {
     "data": {
      "text/plain": [
       "2.5"
      ]
     },
     "execution_count": 69,
     "metadata": {},
     "output_type": "execute_result"
    }
   ],
   "source": [
    "np.median(arr1)"
   ]
  },
  {
   "cell_type": "code",
   "execution_count": 73,
   "id": "a86f9a34-e498-44e7-af1a-c38d773f1035",
   "metadata": {},
   "outputs": [
    {
     "ename": "TypeError",
     "evalue": "remainder() takes from 2 to 3 positional arguments but 1 were given",
     "output_type": "error",
     "traceback": [
      "\u001b[0;31m---------------------------------------------------------------------------\u001b[0m",
      "\u001b[0;31mTypeError\u001b[0m                                 Traceback (most recent call last)",
      "Cell \u001b[0;32mIn[73], line 1\u001b[0m\n\u001b[0;32m----> 1\u001b[0m \u001b[43mnp\u001b[49m\u001b[38;5;241;43m.\u001b[39;49m\u001b[43mmod\u001b[49m\u001b[43m(\u001b[49m\u001b[43m(\u001b[49m\u001b[43marr1\u001b[49m\u001b[43m)\u001b[49m\u001b[43m)\u001b[49m\n",
      "\u001b[0;31mTypeError\u001b[0m: remainder() takes from 2 to 3 positional arguments but 1 were given"
     ]
    }
   ],
   "source": [
    "np.mod((arr1))"
   ]
  },
  {
   "cell_type": "code",
   "execution_count": 74,
   "id": "72ed66d3-2ffd-44cb-8c1b-8657c67c8852",
   "metadata": {},
   "outputs": [
    {
     "data": {
      "text/plain": [
       "2.6718699236468995"
      ]
     },
     "execution_count": 74,
     "metadata": {},
     "output_type": "execute_result"
    }
   ],
   "source": [
    "np.std(arr1)"
   ]
  },
  {
   "cell_type": "code",
   "execution_count": 76,
   "id": "8b226fd2-c85c-4ed4-80cc-49510103ba8f",
   "metadata": {},
   "outputs": [
    {
     "data": {
      "text/plain": [
       "7.138888888888888"
      ]
     },
     "execution_count": 76,
     "metadata": {},
     "output_type": "execute_result"
    }
   ],
   "source": [
    "np.var(arr1)"
   ]
  },
  {
   "cell_type": "code",
   "execution_count": 77,
   "id": "09dc5ff3-c5a2-4906-87c4-ad1a5b0a9bc9",
   "metadata": {},
   "outputs": [
    {
     "data": {
      "text/plain": [
       "1"
      ]
     },
     "execution_count": 77,
     "metadata": {},
     "output_type": "execute_result"
    }
   ],
   "source": [
    "np.min(arr1)"
   ]
  },
  {
   "cell_type": "code",
   "execution_count": 78,
   "id": "0233e4ae-09bc-40f0-9c29-f4ab4871978a",
   "metadata": {},
   "outputs": [
    {
     "data": {
      "text/plain": [
       "8"
      ]
     },
     "execution_count": 78,
     "metadata": {},
     "output_type": "execute_result"
    }
   ],
   "source": [
    "np.max(arr1)"
   ]
  },
  {
   "cell_type": "code",
   "execution_count": 79,
   "id": "1adfd25b-e24f-4284-befc-14a06b51fa1e",
   "metadata": {},
   "outputs": [],
   "source": [
    "## Sort, Search & Counting Functions."
   ]
  },
  {
   "cell_type": "code",
   "execution_count": 80,
   "id": "7d8527a0-280b-4777-b47c-352932b7f98d",
   "metadata": {},
   "outputs": [],
   "source": [
    "import numpy as np\n"
   ]
  },
  {
   "cell_type": "code",
   "execution_count": 81,
   "id": "f018def5-fd4a-415c-b929-2fc0c809365e",
   "metadata": {},
   "outputs": [],
   "source": [
    "arr = np.array([4,5,6,8,9,5,2,45,46,65,45,12,32,12])"
   ]
  },
  {
   "cell_type": "code",
   "execution_count": 82,
   "id": "adb9e481-e837-4608-9eff-95aacc46661f",
   "metadata": {},
   "outputs": [
    {
     "data": {
      "text/plain": [
       "array([ 2,  4,  5,  5,  6,  8,  9, 12, 12, 32, 45, 45, 46, 65])"
      ]
     },
     "execution_count": 82,
     "metadata": {},
     "output_type": "execute_result"
    }
   ],
   "source": [
    "np.sort(arr)"
   ]
  },
  {
   "cell_type": "code",
   "execution_count": 83,
   "id": "7751d041-618a-4e50-94d2-e48dbbb423a9",
   "metadata": {},
   "outputs": [
    {
     "data": {
      "text/plain": [
       "14"
      ]
     },
     "execution_count": 83,
     "metadata": {},
     "output_type": "execute_result"
    }
   ],
   "source": [
    "np.searchsorted(arr,56)"
   ]
  },
  {
   "cell_type": "code",
   "execution_count": 84,
   "id": "7e9642ad-e760-4b26-bdd7-662e4720a5b1",
   "metadata": {},
   "outputs": [],
   "source": [
    "arr1 = np.array([1,0,2,0,3,0,0,0,45,21,0,0,12])"
   ]
  },
  {
   "cell_type": "code",
   "execution_count": 85,
   "id": "4fb0a554-fbf9-4a1e-b88f-5cd9fcb9c8d8",
   "metadata": {},
   "outputs": [
    {
     "data": {
      "text/plain": [
       "6"
      ]
     },
     "execution_count": 85,
     "metadata": {},
     "output_type": "execute_result"
    }
   ],
   "source": [
    "np.count_nonzero(arr1)"
   ]
  },
  {
   "cell_type": "code",
   "execution_count": 86,
   "id": "5457f16e-ca8d-451f-bbea-d1233e4b1eaa",
   "metadata": {},
   "outputs": [
    {
     "data": {
      "text/plain": [
       "array([ 4,  5,  6,  8,  9,  5,  2, 45, 46, 65, 45, 12, 32, 12])"
      ]
     },
     "execution_count": 86,
     "metadata": {},
     "output_type": "execute_result"
    }
   ],
   "source": [
    "arr"
   ]
  },
  {
   "cell_type": "code",
   "execution_count": 88,
   "id": "1047fe56-db2d-460a-a2f1-43aaeb3bf797",
   "metadata": {},
   "outputs": [
    {
     "data": {
      "text/plain": [
       "(array([ 7,  8,  9, 10, 12]),)"
      ]
     },
     "execution_count": 88,
     "metadata": {},
     "output_type": "execute_result"
    }
   ],
   "source": [
    "np.where(arr>20)"
   ]
  },
  {
   "cell_type": "code",
   "execution_count": 89,
   "id": "ac1b11b3-613e-4dae-972a-753ac8ec1caf",
   "metadata": {},
   "outputs": [
    {
     "data": {
      "text/plain": [
       "array([45, 46, 65, 45, 32])"
      ]
     },
     "execution_count": 89,
     "metadata": {},
     "output_type": "execute_result"
    }
   ],
   "source": [
    "np.extract(arr>25,arr)"
   ]
  },
  {
   "cell_type": "code",
   "execution_count": 90,
   "id": "4059dee3-4986-4cc9-87f9-0d155616bf61",
   "metadata": {},
   "outputs": [],
   "source": [
    "## Numpy  -Byte Swapping"
   ]
  },
  {
   "cell_type": "code",
   "execution_count": 91,
   "id": "16552bc0-7541-48b2-98b6-912aa62beaf1",
   "metadata": {},
   "outputs": [
    {
     "data": {
      "text/plain": [
       "array([ 288230376151711744,  360287970189639680,  432345564227567616,\n",
       "        576460752303423488,  648518346341351424,  360287970189639680,\n",
       "        144115188075855872, 3242591731706757120, 3314649325744685056,\n",
       "       4683743612465315840, 3242591731706757120,  864691128455135232,\n",
       "       2305843009213693952,  864691128455135232])"
      ]
     },
     "execution_count": 91,
     "metadata": {},
     "output_type": "execute_result"
    }
   ],
   "source": [
    "arr.byteswap()"
   ]
  },
  {
   "cell_type": "code",
   "execution_count": 92,
   "id": "117c089a-2a23-4bde-9ea8-0165ce9bb6c6",
   "metadata": {},
   "outputs": [],
   "source": [
    "## copies and views"
   ]
  },
  {
   "cell_type": "code",
   "execution_count": 93,
   "id": "2d919993-1641-4a8a-8e30-9e8e66525475",
   "metadata": {},
   "outputs": [
    {
     "data": {
      "text/plain": [
       "array([ 4,  5,  6,  8,  9,  5,  2, 45, 46, 65, 45, 12, 32, 12])"
      ]
     },
     "execution_count": 93,
     "metadata": {},
     "output_type": "execute_result"
    }
   ],
   "source": [
    "arr"
   ]
  },
  {
   "cell_type": "code",
   "execution_count": 94,
   "id": "2c752848-70d4-49ee-8272-3ead3f7f3998",
   "metadata": {},
   "outputs": [],
   "source": [
    "a = np.copy(arr)  ## deep copy"
   ]
  },
  {
   "cell_type": "code",
   "execution_count": 95,
   "id": "d950be4a-18cf-4ff9-8505-1169f7d886fe",
   "metadata": {},
   "outputs": [],
   "source": [
    "b = arr.view() ## solo copy"
   ]
  },
  {
   "cell_type": "code",
   "execution_count": 96,
   "id": "19e6a0bb-f603-4159-92ef-1385f915f90c",
   "metadata": {},
   "outputs": [
    {
     "data": {
      "text/plain": [
       "array([ 4,  5,  6,  8,  9,  5,  2, 45, 46, 65, 45, 12, 32, 12])"
      ]
     },
     "execution_count": 96,
     "metadata": {},
     "output_type": "execute_result"
    }
   ],
   "source": [
    "b"
   ]
  },
  {
   "cell_type": "code",
   "execution_count": 97,
   "id": "d9867026-a09e-40bf-a2f1-9b60a5c3f88c",
   "metadata": {},
   "outputs": [
    {
     "data": {
      "text/plain": [
       "array([ 4,  5,  6,  8,  9,  5,  2, 45, 46, 65, 45, 12, 32, 12])"
      ]
     },
     "execution_count": 97,
     "metadata": {},
     "output_type": "execute_result"
    }
   ],
   "source": [
    "arr"
   ]
  },
  {
   "cell_type": "code",
   "execution_count": 98,
   "id": "6c70d51b-27ae-4153-b449-35ca3c72eebe",
   "metadata": {},
   "outputs": [],
   "source": [
    "b[0] = 101"
   ]
  },
  {
   "cell_type": "code",
   "execution_count": 99,
   "id": "5a071bc6-0275-48a5-95c8-e59cc95db3d8",
   "metadata": {},
   "outputs": [
    {
     "data": {
      "text/plain": [
       "array([101,   5,   6,   8,   9,   5,   2,  45,  46,  65,  45,  12,  32,\n",
       "        12])"
      ]
     },
     "execution_count": 99,
     "metadata": {},
     "output_type": "execute_result"
    }
   ],
   "source": [
    "b"
   ]
  },
  {
   "cell_type": "code",
   "execution_count": 100,
   "id": "f603111a-6c5b-44be-84d5-eb55e46e32d5",
   "metadata": {},
   "outputs": [
    {
     "data": {
      "text/plain": [
       "array([101,   5,   6,   8,   9,   5,   2,  45,  46,  65,  45,  12,  32,\n",
       "        12])"
      ]
     },
     "execution_count": 100,
     "metadata": {},
     "output_type": "execute_result"
    }
   ],
   "source": [
    "arr"
   ]
  },
  {
   "cell_type": "code",
   "execution_count": 101,
   "id": "1af6ab10-bc08-4ec4-a40f-223e017381b0",
   "metadata": {},
   "outputs": [],
   "source": [
    "## Numpy  - metrix Library"
   ]
  },
  {
   "cell_type": "code",
   "execution_count": 102,
   "id": "23401dd4-5226-49a0-80c1-75e26ba9149a",
   "metadata": {},
   "outputs": [],
   "source": [
    "import numpy.matlib as nm"
   ]
  },
  {
   "cell_type": "code",
   "execution_count": 103,
   "id": "6ca02686-37cf-4eb1-a784-88ed2c65eec5",
   "metadata": {},
   "outputs": [
    {
     "data": {
      "text/plain": [
       "matrix([[0., 0., 0., 0., 0.]])"
      ]
     },
     "execution_count": 103,
     "metadata": {},
     "output_type": "execute_result"
    }
   ],
   "source": [
    "nm.zeros(5)"
   ]
  },
  {
   "cell_type": "code",
   "execution_count": 104,
   "id": "6bbcc541-6e85-4f24-a110-ed88049abdc4",
   "metadata": {},
   "outputs": [
    {
     "data": {
      "text/plain": [
       "matrix([[1., 1., 1., 1.]])"
      ]
     },
     "execution_count": 104,
     "metadata": {},
     "output_type": "execute_result"
    }
   ],
   "source": [
    "nm.ones(4)"
   ]
  },
  {
   "cell_type": "code",
   "execution_count": 105,
   "id": "aa2933b2-cc6f-411a-8bc7-e02093ec4011",
   "metadata": {},
   "outputs": [
    {
     "data": {
      "text/plain": [
       "matrix([[1., 1., 1., 1., 1.],\n",
       "        [1., 1., 1., 1., 1.],\n",
       "        [1., 1., 1., 1., 1.],\n",
       "        [1., 1., 1., 1., 1.]])"
      ]
     },
     "execution_count": 105,
     "metadata": {},
     "output_type": "execute_result"
    }
   ],
   "source": [
    "nm.ones((4,5))"
   ]
  },
  {
   "cell_type": "code",
   "execution_count": 106,
   "id": "5649a0ec-f944-4ec8-9d68-131bd46f0e66",
   "metadata": {},
   "outputs": [
    {
     "data": {
      "text/plain": [
       "matrix([[1., 0., 0., 0., 0.],\n",
       "        [0., 1., 0., 0., 0.],\n",
       "        [0., 0., 1., 0., 0.],\n",
       "        [0., 0., 0., 1., 0.],\n",
       "        [0., 0., 0., 0., 1.]])"
      ]
     },
     "execution_count": 106,
     "metadata": {},
     "output_type": "execute_result"
    }
   ],
   "source": [
    "nm.eye(5)"
   ]
  },
  {
   "cell_type": "code",
   "execution_count": 107,
   "id": "e288263a-5206-4aef-9dce-d93b80e6c64f",
   "metadata": {},
   "outputs": [],
   "source": [
    "## numpy  - linear algebra"
   ]
  },
  {
   "cell_type": "code",
   "execution_count": 108,
   "id": "4828c885-2438-4c1e-a9fa-bbc4ccc66167",
   "metadata": {},
   "outputs": [],
   "source": [
    "arr1 = np.random.randint([[2,3],[4,5]])"
   ]
  },
  {
   "cell_type": "code",
   "execution_count": 109,
   "id": "43c8850b-2282-445e-b78a-698a39041bac",
   "metadata": {},
   "outputs": [],
   "source": [
    "arr2 = np.random.randint([[2,3],[4,5]])"
   ]
  },
  {
   "cell_type": "code",
   "execution_count": 110,
   "id": "a01add77-7ec4-4770-b11d-500a8de46fe9",
   "metadata": {},
   "outputs": [
    {
     "data": {
      "text/plain": [
       "array([[1, 5],\n",
       "       [1, 8]])"
      ]
     },
     "execution_count": 110,
     "metadata": {},
     "output_type": "execute_result"
    }
   ],
   "source": [
    "np.dot(arr1,arr2)"
   ]
  },
  {
   "cell_type": "code",
   "execution_count": 111,
   "id": "a1a9068f-6ede-410d-b970-8359f4f167f7",
   "metadata": {},
   "outputs": [
    {
     "data": {
      "text/plain": [
       "array([[1, 5],\n",
       "       [1, 8]])"
      ]
     },
     "execution_count": 111,
     "metadata": {},
     "output_type": "execute_result"
    }
   ],
   "source": [
    "arr1@arr2"
   ]
  },
  {
   "cell_type": "code",
   "execution_count": null,
   "id": "71f84c05-e5fa-4416-8dbb-5282eb7f145a",
   "metadata": {},
   "outputs": [],
   "source": []
  }
 ],
 "metadata": {
  "kernelspec": {
   "display_name": "Python 3 (ipykernel)",
   "language": "python",
   "name": "python3"
  },
  "language_info": {
   "codemirror_mode": {
    "name": "ipython",
    "version": 3
   },
   "file_extension": ".py",
   "mimetype": "text/x-python",
   "name": "python",
   "nbconvert_exporter": "python",
   "pygments_lexer": "ipython3",
   "version": "3.10.8"
  }
 },
 "nbformat": 4,
 "nbformat_minor": 5
}
